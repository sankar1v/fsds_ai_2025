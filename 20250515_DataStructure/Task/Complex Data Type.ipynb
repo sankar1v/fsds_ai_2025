{
 "cells": [
  {
   "cell_type": "markdown",
   "metadata": {},
   "source": [
    "# Complex Data Type\n",
    "In Python, the complex type is used to represent complex numbers, which consist of a real\n",
    "and an imaginary part.\n",
    "You can create complex numbers and perform mathematical operations on them using the\n",
    "built-in support for complex numbers.\n",
    "**Creating a Complex Number**\n",
    "A complex number is created by appending the letter j (or J) to the imaginary part. The\n",
    "format is:"
   ]
  },
  {
   "cell_type": "code",
   "execution_count": 3,
   "metadata": {},
   "outputs": [
    {
     "data": {
      "text/plain": [
       "(3+4j)"
      ]
     },
     "execution_count": 3,
     "metadata": {},
     "output_type": "execute_result"
    }
   ],
   "source": [
    "z=3+4j\n",
    "z"
   ]
  },
  {
   "cell_type": "markdown",
   "metadata": {},
   "source": [
    "Here, 3 is the real part, and 4j is the imaginary part.\n",
    "\n",
    "**Accessing the Real and Imaginary Parts**\n",
    "\n",
    "You can access the real and imaginary parts of a complex number using the .real and .imag\n",
    "attributes:"
   ]
  },
  {
   "cell_type": "code",
   "execution_count": 5,
   "metadata": {},
   "outputs": [
    {
     "name": "stdout",
     "output_type": "stream",
     "text": [
      "3.0\n",
      "4.0\n"
     ]
    }
   ],
   "source": [
    "print(z.real)\n",
    "print(z.imag)"
   ]
  },
  {
   "cell_type": "markdown",
   "metadata": {},
   "source": [
    "**Operations with Complex Numbers**\n",
    "\n",
    "You can perform various operations like addition, subtraction, multiplication, division, and\n",
    "more with complex numbers. Python handles these operations automatically."
   ]
  },
  {
   "cell_type": "code",
   "execution_count": 6,
   "metadata": {},
   "outputs": [
    {
     "name": "stdout",
     "output_type": "stream",
     "text": [
      "(4+6j)\n",
      "(2+2j)\n",
      "(-5+10j)\n",
      "(2.2-0.4j)\n"
     ]
    }
   ],
   "source": [
    "a=3+4j\n",
    "b=1+2j\n",
    "\n",
    "# Addition\n",
    "print(a+b)\n",
    "\n",
    "# Subtraction\n",
    "print(a-b)\n",
    "\n",
    "# Multiplication\n",
    "print(a*b)\n",
    "\n",
    "# Division\n",
    "print(a/b)"
   ]
  },
  {
   "cell_type": "markdown",
   "metadata": {},
   "source": [
    "**Using Built-in Functions**\n",
    "\n",
    "Python provides several functions to work with complex numbers, such as:\n",
    "- abs(z): Returns the magnitude (absolute value) of the complex number.\n",
    "- conj(z): Returns the complex conjugate of the number."
   ]
  },
  {
   "cell_type": "code",
   "execution_count": 10,
   "metadata": {},
   "outputs": [
    {
     "name": "stdout",
     "output_type": "stream",
     "text": [
      "5.0\n",
      "(3-4j)\n"
     ]
    }
   ],
   "source": [
    "z=3+4j\n",
    "print(abs(z))\n",
    "print(z.conjugate())"
   ]
  },
  {
   "cell_type": "markdown",
   "metadata": {},
   "source": [
    "**Complex Number in the cmath Module**\n",
    "\n",
    "The cmath module provides additional functionality for complex numbers, such as\n",
    "trigonometric functions, logarithms, and square roots."
   ]
  },
  {
   "cell_type": "code",
   "execution_count": 12,
   "metadata": {},
   "outputs": [
    {
     "name": "stdout",
     "output_type": "stream",
     "text": [
      "0.7853981633974483\n",
      "(1.4142135623730951, 0.7853981633974483)\n",
      "(1.09868411346781+0.45508986056222733j)\n"
     ]
    }
   ],
   "source": [
    "import cmath as c\n",
    "z=1+1j\n",
    "\n",
    "# Getting the phase (angle) of the complex number\n",
    "print(c.phase(z))\n",
    "\n",
    "# Getting the polar form of a complex number (magnitude, angle)\n",
    "print(c.polar(z))\n",
    "\n",
    "# Getting the square root of a complex number\n",
    "print(c.sqrt(z))"
   ]
  },
  {
   "cell_type": "markdown",
   "metadata": {},
   "source": [
    "- Complex numbers are written with j or J for the imaginary part.\n",
    "- You can perform basic arithmetic operations on complex numbers.\n",
    "- You can access the real and imaginary parts using .real and .imag.\n",
    "- The cmath module offers additional functions for complex numbers."
   ]
  },
  {
   "cell_type": "code",
   "execution_count": null,
   "metadata": {},
   "outputs": [],
   "source": []
  }
 ],
 "metadata": {
  "kernelspec": {
   "display_name": "Python 3",
   "language": "python",
   "name": "python3"
  },
  "language_info": {
   "codemirror_mode": {
    "name": "ipython",
    "version": 3
   },
   "file_extension": ".py",
   "mimetype": "text/x-python",
   "name": "python",
   "nbconvert_exporter": "python",
   "pygments_lexer": "ipython3",
   "version": "3.8.3"
  }
 },
 "nbformat": 4,
 "nbformat_minor": 4
}
