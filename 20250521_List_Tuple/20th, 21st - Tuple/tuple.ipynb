{
 "cells": [
  {
   "cell_type": "markdown",
   "id": "d69c8de4-1961-46f8-900b-ce596a7cc208",
   "metadata": {},
   "source": [
    "# 10th APRIL - FSDS, GENAI, AGENTIAI "
   ]
  },
  {
   "cell_type": "code",
   "execution_count": 1,
   "id": "11d99c27-9fe6-48db-98f5-fbad87dacb9c",
   "metadata": {},
   "outputs": [
    {
     "data": {
      "text/plain": [
       "9"
      ]
     },
     "execution_count": 1,
     "metadata": {},
     "output_type": "execute_result"
    }
   ],
   "source": [
    "9"
   ]
  },
  {
   "cell_type": "code",
   "execution_count": 2,
   "id": "dd915bc6-eaba-4a48-8f8f-603830f47431",
   "metadata": {},
   "outputs": [
    {
     "data": {
      "text/plain": [
       "18"
      ]
     },
     "execution_count": 2,
     "metadata": {},
     "output_type": "execute_result"
    }
   ],
   "source": [
    "9 + 9"
   ]
  },
  {
   "cell_type": "code",
   "execution_count": 3,
   "id": "84e6a0c0-e28b-4d79-a4e8-4cba6a209ef6",
   "metadata": {},
   "outputs": [
    {
     "data": {
      "text/plain": [
       "14"
      ]
     },
     "execution_count": 3,
     "metadata": {},
     "output_type": "execute_result"
    }
   ],
   "source": [
    "9 + 9 - (10 - 3) + 3"
   ]
  },
  {
   "cell_type": "code",
   "execution_count": 4,
   "id": "799f3ea9-2d44-4938-8ec6-0cf4af6da477",
   "metadata": {},
   "outputs": [
    {
     "data": {
      "text/plain": [
       "8"
      ]
     },
     "execution_count": 4,
     "metadata": {},
     "output_type": "execute_result"
    }
   ],
   "source": [
    "9 + 9 - 10 - 3 + 3"
   ]
  },
  {
   "cell_type": "markdown",
   "id": "666dd8a4-7162-47d4-a91f-0de9b559f171",
   "metadata": {},
   "source": [
    "# numbers are called as operand \n",
    "# +, - * are called operator"
   ]
  },
  {
   "cell_type": "markdown",
   "id": "a3135f9e-7476-47f0-bf94-93e8f3e58d98",
   "metadata": {},
   "source": [
    "# ARITHMETIC OPERATOR "
   ]
  },
  {
   "cell_type": "markdown",
   "id": "70c53e4b-a0a0-4a73-bad8-3e3baba0b3e3",
   "metadata": {},
   "source": [
    "- 1- ARITHMETIC OPERATOR ( + , -, *, /, %, %%, **)\n",
    "- 2- ASSIGNMEN OPERATOR (=)\n",
    "- 3- RELATIONAL OPERATOR\n",
    "- 4- LOGICAL OPERATOR\n",
    "- 5- UNARY OPERATOR"
   ]
  },
  {
   "cell_type": "code",
   "execution_count": 5,
   "id": "71fe18cb-d03f-4363-b439-c517b45c0c47",
   "metadata": {},
   "outputs": [
    {
     "data": {
      "text/plain": [
       "15"
      ]
     },
     "execution_count": 5,
     "metadata": {},
     "output_type": "execute_result"
    }
   ],
   "source": [
    "10 + 5"
   ]
  },
  {
   "cell_type": "code",
   "execution_count": 6,
   "id": "f513d1c7-72ed-4bb2-a871-86f347ce2b3d",
   "metadata": {},
   "outputs": [
    {
     "data": {
      "text/plain": [
       "5"
      ]
     },
     "execution_count": 6,
     "metadata": {},
     "output_type": "execute_result"
    }
   ],
   "source": [
    "10- 5"
   ]
  },
  {
   "cell_type": "code",
   "execution_count": 7,
   "id": "e6b4a85c-c385-49d6-989f-3125f3108570",
   "metadata": {},
   "outputs": [
    {
     "data": {
      "text/plain": [
       "50"
      ]
     },
     "execution_count": 7,
     "metadata": {},
     "output_type": "execute_result"
    }
   ],
   "source": [
    "10 * 5"
   ]
  },
  {
   "cell_type": "code",
   "execution_count": 8,
   "id": "7e962897-74f7-4d69-bdd9-85853ed1222b",
   "metadata": {},
   "outputs": [
    {
     "data": {
      "text/plain": [
       "20"
      ]
     },
     "execution_count": 8,
     "metadata": {},
     "output_type": "execute_result"
    }
   ],
   "source": [
    "10 * 2 # MULTIPLICATION "
   ]
  },
  {
   "cell_type": "code",
   "execution_count": 9,
   "id": "67d0026d-4de6-4e86-b435-3a409b4de5a3",
   "metadata": {},
   "outputs": [
    {
     "data": {
      "text/plain": [
       "100"
      ]
     },
     "execution_count": 9,
     "metadata": {},
     "output_type": "execute_result"
    }
   ],
   "source": [
    "10 ** 2  #POWER "
   ]
  },
  {
   "cell_type": "code",
   "execution_count": 10,
   "id": "1d11bf8c-5a8a-4269-889d-1c90d75d0be5",
   "metadata": {},
   "outputs": [
    {
     "ename": "SyntaxError",
     "evalue": "invalid syntax (3222072647.py, line 1)",
     "output_type": "error",
     "traceback": [
      "\u001b[1;36m  Cell \u001b[1;32mIn[10], line 1\u001b[1;36m\u001b[0m\n\u001b[1;33m    10 *** 2\u001b[0m\n\u001b[1;37m         ^\u001b[0m\n\u001b[1;31mSyntaxError\u001b[0m\u001b[1;31m:\u001b[0m invalid syntax\n"
     ]
    }
   ],
   "source": [
    "10 *** 2 "
   ]
  },
  {
   "cell_type": "code",
   "execution_count": null,
   "id": "131de2ee-bf73-4efa-b59c-97c09bf969a2",
   "metadata": {},
   "outputs": [],
   "source": [
    "10 / 5 # FLOAT DIVISION "
   ]
  },
  {
   "cell_type": "code",
   "execution_count": null,
   "id": "56dc75da-0ef1-410e-981d-ca6eb75e3227",
   "metadata": {},
   "outputs": [],
   "source": [
    "10 // 5 # int division "
   ]
  },
  {
   "cell_type": "code",
   "execution_count": null,
   "id": "f0a939b9-7d57-4e96-a590-fe2b9511f9f0",
   "metadata": {},
   "outputs": [],
   "source": [
    "10 % 5"
   ]
  },
  {
   "cell_type": "code",
   "execution_count": null,
   "id": "63119534-0b73-4aa6-a28c-5caca7f9d9f2",
   "metadata": {},
   "outputs": [],
   "source": [
    "15 % 6"
   ]
  },
  {
   "cell_type": "code",
   "execution_count": null,
   "id": "a9df1c0f-6363-41d8-a952-d3794bbefe02",
   "metadata": {},
   "outputs": [],
   "source": [
    "15 %% 6"
   ]
  },
  {
   "cell_type": "code",
   "execution_count": null,
   "id": "13e8b157-9584-4c55-9f80-50d5e30cb3be",
   "metadata": {},
   "outputs": [],
   "source": [
    "15 / 6"
   ]
  },
  {
   "cell_type": "code",
   "execution_count": null,
   "id": "25547178-797b-4a18-9cfb-447087f199ae",
   "metadata": {},
   "outputs": [],
   "source": [
    "15 // 6"
   ]
  },
  {
   "cell_type": "markdown",
   "id": "a59b92ba-2f8f-4f7f-b5eb-62ac9e2c2561",
   "metadata": {},
   "source": [
    "# Assignment operator "
   ]
  },
  {
   "cell_type": "code",
   "execution_count": null,
   "id": "f9bfa576-1abd-45c5-b90a-c5186eedb04b",
   "metadata": {},
   "outputs": [],
   "source": [
    "x = 10 \n",
    "x\n",
    "# x is called variable or object or identifier "
   ]
  },
  {
   "cell_type": "code",
   "execution_count": null,
   "id": "ca64e0a1-e3ec-4202-adca-c5ca705970f1",
   "metadata": {},
   "outputs": [],
   "source": [
    "x + 2"
   ]
  },
  {
   "cell_type": "code",
   "execution_count": null,
   "id": "a8b03298-6199-45bc-b1ea-f52e3d3ddee2",
   "metadata": {},
   "outputs": [],
   "source": [
    "x + 2"
   ]
  },
  {
   "cell_type": "code",
   "execution_count": null,
   "id": "40a4a58b-760f-4d93-953d-19b83aeb8cd1",
   "metadata": {},
   "outputs": [],
   "source": [
    "x + 2"
   ]
  },
  {
   "cell_type": "code",
   "execution_count": null,
   "id": "bf984a1b-b847-46e6-8e61-d666e111ecaf",
   "metadata": {},
   "outputs": [],
   "source": [
    "x + 2"
   ]
  },
  {
   "cell_type": "code",
   "execution_count": null,
   "id": "623461b2-4a58-4198-8512-c86dc6c1b0c7",
   "metadata": {},
   "outputs": [],
   "source": [
    "x += 2\n",
    "x"
   ]
  },
  {
   "cell_type": "code",
   "execution_count": null,
   "id": "b33943e5-eb38-420b-848a-5b8cc862e512",
   "metadata": {},
   "outputs": [],
   "source": [
    "x += 2\n",
    "x"
   ]
  },
  {
   "cell_type": "code",
   "execution_count": null,
   "id": "20ac9643-40f7-4962-9064-1706afc45483",
   "metadata": {},
   "outputs": [],
   "source": [
    "x += 2\n",
    "x"
   ]
  },
  {
   "cell_type": "code",
   "execution_count": null,
   "id": "ce4fa972-070e-4305-9fcc-7730b3d0fe5c",
   "metadata": {},
   "outputs": [],
   "source": [
    "x += 2\n",
    "x"
   ]
  },
  {
   "cell_type": "code",
   "execution_count": null,
   "id": "2e2afbf5-9696-422c-99de-946c23ed3123",
   "metadata": {},
   "outputs": [],
   "source": [
    "x"
   ]
  },
  {
   "cell_type": "code",
   "execution_count": null,
   "id": "104bba39-f34b-4c23-87e2-2d75a0ebb7b3",
   "metadata": {},
   "outputs": [],
   "source": [
    "x -= 2\n",
    "x"
   ]
  },
  {
   "cell_type": "code",
   "execution_count": null,
   "id": "e2b375af-2bc3-436e-845f-29a6d412f4b2",
   "metadata": {},
   "outputs": [],
   "source": [
    "x -= 2\n",
    "x"
   ]
  },
  {
   "cell_type": "code",
   "execution_count": null,
   "id": "a7601ca5-8e93-4d38-a0f7-06570c9906ad",
   "metadata": {},
   "outputs": [],
   "source": [
    "x -= 2\n",
    "x"
   ]
  },
  {
   "cell_type": "code",
   "execution_count": null,
   "id": "16bfad2a-7de2-4ba2-b3d3-eec8aa86dea1",
   "metadata": {},
   "outputs": [],
   "source": [
    "x "
   ]
  },
  {
   "cell_type": "code",
   "execution_count": null,
   "id": "05eb6608-a744-42a5-bed0-35f9190b4413",
   "metadata": {},
   "outputs": [],
   "source": [
    "x *= 2\n",
    "x"
   ]
  },
  {
   "cell_type": "code",
   "execution_count": null,
   "id": "37e1cce5-7d93-41db-8990-d9f9dfade494",
   "metadata": {},
   "outputs": [],
   "source": [
    "x *= 2\n",
    "x"
   ]
  },
  {
   "cell_type": "code",
   "execution_count": null,
   "id": "b9b80606-390d-4a2a-9715-57243ebde5df",
   "metadata": {},
   "outputs": [],
   "source": [
    "x /= 2"
   ]
  },
  {
   "cell_type": "code",
   "execution_count": null,
   "id": "4c58be43-c1f9-4371-9712-d5f7e87394be",
   "metadata": {},
   "outputs": [],
   "source": [
    "x"
   ]
  },
  {
   "cell_type": "code",
   "execution_count": null,
   "id": "a5c33c75-c14c-49ee-87d2-d052a17317a3",
   "metadata": {},
   "outputs": [],
   "source": [
    "x /= 2\n",
    "x"
   ]
  },
  {
   "cell_type": "markdown",
   "id": "532cbe54-44e7-4a25-82c4-10dc5f767006",
   "metadata": {},
   "source": [
    "# unary operator "
   ]
  },
  {
   "cell_type": "code",
   "execution_count": null,
   "id": "7ce7989b-31ef-4777-8af2-80beb66f3378",
   "metadata": {},
   "outputs": [],
   "source": [
    "n = 7\n",
    "n"
   ]
  },
  {
   "cell_type": "code",
   "execution_count": null,
   "id": "1b0c9590-39fc-4758-a4c1-72ed0dfafb95",
   "metadata": {},
   "outputs": [],
   "source": [
    "m = -n\n",
    "m"
   ]
  },
  {
   "cell_type": "markdown",
   "id": "371cfed7-302b-4aba-ab80-ee9e1915fe30",
   "metadata": {},
   "source": [
    "# 15th April -- Variable "
   ]
  },
  {
   "cell_type": "code",
   "execution_count": null,
   "id": "2f70319c-2d78-45b2-954e-e5d0879468d0",
   "metadata": {},
   "outputs": [],
   "source": [
    "1nit = 9 # variable doesnot start with digit"
   ]
  },
  {
   "cell_type": "code",
   "execution_count": null,
   "id": "1dd4cdb8-b728-4408-a048-2ea8edf1eec2",
   "metadata": {},
   "outputs": [],
   "source": [
    "nit1 = 9\n",
    "nit1"
   ]
  },
  {
   "cell_type": "code",
   "execution_count": null,
   "id": "a49d8118-d722-441f-8549-dd3f7d327357",
   "metadata": {},
   "outputs": [],
   "source": [
    "nit@ = 9 #variable shold not allows spcial character"
   ]
  },
  {
   "cell_type": "code",
   "execution_count": null,
   "id": "c87faafe-f892-43f8-82ca-ab65a7ea37f1",
   "metadata": {},
   "outputs": [],
   "source": [
    "nit_ = 9\n",
    "nit_"
   ]
  },
  {
   "cell_type": "code",
   "execution_count": null,
   "id": "a19344a0-0306-446d-9960-544e197a02e0",
   "metadata": {},
   "outputs": [],
   "source": [
    "def = 89\n",
    "def"
   ]
  },
  {
   "cell_type": "code",
   "execution_count": null,
   "id": "8f3b18b0-ea8e-4adb-a17f-a181ea7d56cc",
   "metadata": {},
   "outputs": [],
   "source": [
    "import keyword\n",
    "keyword.kwlist"
   ]
  },
  {
   "cell_type": "code",
   "execution_count": null,
   "id": "2437bd3c-6340-488d-984d-a4269decca27",
   "metadata": {},
   "outputs": [],
   "source": [
    "len(keyword.kwlist)"
   ]
  },
  {
   "cell_type": "code",
   "execution_count": null,
   "id": "84f352b1-f73a-47f9-af7a-7ddf4a5b2a86",
   "metadata": {},
   "outputs": [],
   "source": [
    "import sys\n",
    "sys.version"
   ]
  },
  {
   "cell_type": "markdown",
   "id": "88ad7e25-4a8c-442a-93ee-c5a83d303db0",
   "metadata": {},
   "source": [
    "# 16th "
   ]
  },
  {
   "cell_type": "code",
   "execution_count": null,
   "id": "7d625575-4075-41de-bf5f-b4b6dd2937a0",
   "metadata": {},
   "outputs": [],
   "source": [
    "a = 10 \n",
    "a"
   ]
  },
  {
   "cell_type": "code",
   "execution_count": null,
   "id": "90c3e31c-bf07-4fcb-8cdb-51987a8fb2c9",
   "metadata": {},
   "outputs": [],
   "source": [
    "a = 20\n",
    "a"
   ]
  },
  {
   "cell_type": "code",
   "execution_count": null,
   "id": "0e199f69-0c44-403f-88a9-ccec9e17805d",
   "metadata": {},
   "outputs": [],
   "source": [
    "type(a)"
   ]
  },
  {
   "cell_type": "markdown",
   "id": "10e03b25-05a3-4ac9-bf02-d08e45e2d8a6",
   "metadata": {},
   "source": [
    "# Python datatypes -->\n",
    "        - Integer datatypes\n",
    "        - float datatypes \n",
    "        - Bool datatypes\n",
    "        - string datatypes\n",
    "        - complex datatypes "
   ]
  },
  {
   "cell_type": "code",
   "execution_count": null,
   "id": "255b55ee-138f-446e-bc05-4efee898ab43",
   "metadata": {},
   "outputs": [],
   "source": [
    "i = 45\n",
    "print(i)\n",
    "print(type(i))"
   ]
  },
  {
   "cell_type": "code",
   "execution_count": null,
   "id": "1470acfc-61de-4a9a-8bc6-8a65145bce1a",
   "metadata": {},
   "outputs": [],
   "source": [
    "i1, i2 = 10"
   ]
  },
  {
   "cell_type": "code",
   "execution_count": null,
   "id": "39920125-b25e-4ff1-8a50-824a4fecf64b",
   "metadata": {},
   "outputs": [],
   "source": [
    "i1, i2 = 10, 20\n",
    "\n",
    "print(i1)\n",
    "print(i2)\n",
    "\n",
    "print(i1 + i2)\n",
    "print(i1 - i2)\n",
    "print(i1 * i2)\n",
    "print(i1 / i2)"
   ]
  },
  {
   "cell_type": "markdown",
   "id": "1860d592-7080-4800-92d2-426cdba4a338",
   "metadata": {},
   "source": [
    "# float "
   ]
  },
  {
   "cell_type": "code",
   "execution_count": null,
   "id": "50102fe0-31b5-4164-a106-445414046111",
   "metadata": {},
   "outputs": [],
   "source": [
    "petrol = 110.56\n",
    "petrol"
   ]
  },
  {
   "cell_type": "code",
   "execution_count": null,
   "id": "81d72589-8ec4-4a05-b86c-f3c32a9bc6ce",
   "metadata": {},
   "outputs": [],
   "source": [
    "type(petrol)"
   ]
  },
  {
   "cell_type": "markdown",
   "id": "82959a1b-4995-4168-b41b-ba8687652527",
   "metadata": {},
   "source": [
    "# string (non techical - text, but technical we called this as string)"
   ]
  },
  {
   "cell_type": "code",
   "execution_count": null,
   "id": "d4e7e5d9-f09f-47da-8eb5-a42688bef76b",
   "metadata": {},
   "outputs": [],
   "source": [
    "s = nareshit\n",
    "s"
   ]
  },
  {
   "cell_type": "code",
   "execution_count": null,
   "id": "dd2b8e8c-ea18-42c5-888b-7f555927092e",
   "metadata": {},
   "outputs": [],
   "source": [
    "s = 'nareshit'\n",
    "s"
   ]
  },
  {
   "cell_type": "code",
   "execution_count": null,
   "id": "43aba7b3-e72d-4e1d-87da-66b1eb0cba2a",
   "metadata": {},
   "outputs": [],
   "source": [
    "type(s)"
   ]
  },
  {
   "cell_type": "code",
   "execution_count": null,
   "id": "2595a6e8-907f-410a-ae73-df07f993c315",
   "metadata": {},
   "outputs": [],
   "source": [
    "s1 = \"nareshit\"\n",
    "s1"
   ]
  },
  {
   "cell_type": "code",
   "execution_count": null,
   "id": "871c934f-782b-4853-81a0-17d63893f9c8",
   "metadata": {},
   "outputs": [],
   "source": [
    "s2 = '''naresh it technology\n",
    "        datascience, ai student -- 6 month i will change your brian'''\n",
    "s2"
   ]
  },
  {
   "cell_type": "code",
   "execution_count": null,
   "id": "1091f73e-3ad4-458b-9049-1dedcbd18bfd",
   "metadata": {},
   "outputs": [],
   "source": [
    "s"
   ]
  },
  {
   "cell_type": "code",
   "execution_count": null,
   "id": "f30a5d20-eb58-413e-8c7a-a80e7c0082c5",
   "metadata": {},
   "outputs": [],
   "source": [
    "print(s[0])\n",
    "print(s[-1])\n",
    "print(s[3])"
   ]
  },
  {
   "cell_type": "code",
   "execution_count": null,
   "id": "78acb957-3b7c-4254-af18-2783b2165c4a",
   "metadata": {},
   "outputs": [],
   "source": [
    "s"
   ]
  },
  {
   "cell_type": "code",
   "execution_count": null,
   "id": "e5b345f4-f528-4e53-a409-590aa22d3ec1",
   "metadata": {},
   "outputs": [],
   "source": [
    "s[:]"
   ]
  },
  {
   "cell_type": "code",
   "execution_count": null,
   "id": "33cc585e-7ef4-4f5a-99d6-e41431a08a6e",
   "metadata": {},
   "outputs": [],
   "source": [
    "s[2:5]"
   ]
  },
  {
   "cell_type": "markdown",
   "id": "1905e5d8-3b9b-4319-916f-3663fc1384d4",
   "metadata": {},
   "source": [
    "# 17th"
   ]
  },
  {
   "cell_type": "code",
   "execution_count": null,
   "id": "e04fd5ef-ac19-4ad4-99b7-661fb1308daf",
   "metadata": {},
   "outputs": [],
   "source": [
    "true"
   ]
  },
  {
   "cell_type": "code",
   "execution_count": null,
   "id": "4faed3d6-f04e-4e27-ae9d-7921efda427d",
   "metadata": {},
   "outputs": [],
   "source": [
    "True"
   ]
  },
  {
   "cell_type": "code",
   "execution_count": null,
   "id": "ac08b6ba-9a95-43db-a154-5a167fef92bf",
   "metadata": {},
   "outputs": [],
   "source": [
    "false"
   ]
  },
  {
   "cell_type": "code",
   "execution_count": null,
   "id": "106edd73-a215-4529-8cf0-8afa0779f888",
   "metadata": {},
   "outputs": [],
   "source": [
    "False"
   ]
  },
  {
   "cell_type": "code",
   "execution_count": null,
   "id": "ad6ecf9d-1b97-4318-b9e9-177ff03ad0b5",
   "metadata": {},
   "outputs": [],
   "source": [
    "b = True\n",
    "b1 = False"
   ]
  },
  {
   "cell_type": "code",
   "execution_count": null,
   "id": "4b4fb3da-c93e-4d79-86b7-0094201cd26e",
   "metadata": {},
   "outputs": [],
   "source": [
    "b"
   ]
  },
  {
   "cell_type": "code",
   "execution_count": null,
   "id": "9bda465e-72fe-4441-95b1-8f9570ff71e7",
   "metadata": {},
   "outputs": [],
   "source": [
    "b1"
   ]
  },
  {
   "cell_type": "code",
   "execution_count": null,
   "id": "3b6b616e-febb-43b3-ac2b-188c6479a637",
   "metadata": {},
   "outputs": [],
   "source": [
    "b + b1"
   ]
  },
  {
   "cell_type": "code",
   "execution_count": null,
   "id": "68275a11-85e4-4b3d-8eab-2d46b975994a",
   "metadata": {},
   "outputs": [],
   "source": [
    "print(b-b1)\n",
    "print(b*b1)\n",
    "print(b1/b) # float division \n",
    "print(b1//b) # int division "
   ]
  },
  {
   "cell_type": "code",
   "execution_count": null,
   "id": "7af508fa-534b-42b0-8c7a-2bdc48590817",
   "metadata": {},
   "outputs": [],
   "source": [
    "type(b1)"
   ]
  },
  {
   "cell_type": "markdown",
   "id": "8d8ade4b-0a64-4332-a732-6cd0bf515513",
   "metadata": {},
   "source": [
    "# complex -- dataype we can use more math operation -- nasa, isro, robo \n",
    "\n",
    "a + bj \n",
    "- a - real part \n",
    "- b - imaginary part\n",
    "- j - square root of -1\n"
   ]
  },
  {
   "cell_type": "code",
   "execution_count": null,
   "id": "8bcb6ee0-03d3-49fb-97a4-634743e539d5",
   "metadata": {},
   "outputs": [],
   "source": [
    "c1 = 10 + 20j\n",
    "c1"
   ]
  },
  {
   "cell_type": "code",
   "execution_count": null,
   "id": "138c3978-060f-4a96-b790-694fbf85e687",
   "metadata": {},
   "outputs": [],
   "source": [
    "type(c1)"
   ]
  },
  {
   "cell_type": "code",
   "execution_count": null,
   "id": "bfe8b9c6-ab39-467e-b6e8-6b09dafed3ca",
   "metadata": {},
   "outputs": [],
   "source": [
    "c1"
   ]
  },
  {
   "cell_type": "code",
   "execution_count": null,
   "id": "346553de-aeb3-467d-a3e9-7f9fcb096eba",
   "metadata": {},
   "outputs": [],
   "source": [
    "c1.real"
   ]
  },
  {
   "cell_type": "code",
   "execution_count": null,
   "id": "46103418-9854-4931-8fbb-b67fcddea809",
   "metadata": {},
   "outputs": [],
   "source": [
    "c1.imag"
   ]
  },
  {
   "cell_type": "code",
   "execution_count": null,
   "id": "b8df7c94-0326-4204-ab9d-5ae2a75a526c",
   "metadata": {},
   "outputs": [],
   "source": [
    "c2 = 3 + 5J\n",
    "c2"
   ]
  },
  {
   "cell_type": "code",
   "execution_count": null,
   "id": "d3aafb6d-d93f-4d65-8ad3-aa26eee43f29",
   "metadata": {},
   "outputs": [],
   "source": [
    "print(c1)\n",
    "print(c2)"
   ]
  },
  {
   "cell_type": "code",
   "execution_count": null,
   "id": "5e4bed31-33c2-4a7c-8906-6c71e887d6ba",
   "metadata": {},
   "outputs": [],
   "source": [
    "c1 + c2"
   ]
  },
  {
   "cell_type": "markdown",
   "id": "7c37e269-8c7f-4db0-8335-ed1085b141f1",
   "metadata": {},
   "source": [
    "# python data types "
   ]
  },
  {
   "cell_type": "markdown",
   "id": "6dbe3b23-2b6d-4bd0-989c-fd3e501a89ec",
   "metadata": {},
   "source": [
    "# TYPE CASTING OR TYPE CONVERSION"
   ]
  },
  {
   "cell_type": "code",
   "execution_count": null,
   "id": "493475dc-e69c-43d3-baec-7a90ed8e4e84",
   "metadata": {},
   "outputs": [],
   "source": [
    "int(3.4) #float to int"
   ]
  },
  {
   "cell_type": "code",
   "execution_count": null,
   "id": "a8fa9c74-496f-402f-87fd-2c31c7d8cd07",
   "metadata": {},
   "outputs": [],
   "source": [
    "int(3.4, 5.7)"
   ]
  },
  {
   "cell_type": "code",
   "execution_count": null,
   "id": "01358226-b48b-4639-ba17-1f159b5910ab",
   "metadata": {},
   "outputs": [],
   "source": [
    "int(True) #bool to int "
   ]
  },
  {
   "cell_type": "code",
   "execution_count": null,
   "id": "e6b0e738-3632-4aad-8c51-aab49a5e694f",
   "metadata": {},
   "outputs": [],
   "source": [
    "int(True, False)"
   ]
  },
  {
   "cell_type": "code",
   "execution_count": null,
   "id": "c7e3a5d4-90c1-4ad0-b575-055ab6daea82",
   "metadata": {},
   "outputs": [],
   "source": [
    "int(False)"
   ]
  },
  {
   "cell_type": "code",
   "execution_count": null,
   "id": "2ab0b771-cfe8-4818-8931-2ac8bf604b09",
   "metadata": {},
   "outputs": [],
   "source": [
    "print(int(3.4))\n",
    "print(int(True))\n",
    "print(int('10'))"
   ]
  },
  {
   "cell_type": "code",
   "execution_count": null,
   "id": "e3db5fc6-ee9c-48aa-a1e1-40b6d95fe45e",
   "metadata": {},
   "outputs": [],
   "source": [
    "print(int(10+20j))"
   ]
  },
  {
   "cell_type": "code",
   "execution_count": null,
   "id": "e9c491b0-95ed-437d-94f3-77a849cf3b92",
   "metadata": {},
   "outputs": [],
   "source": [
    "int('ten')"
   ]
  },
  {
   "cell_type": "markdown",
   "id": "7c33d881-63f3-4e67-b7f2-16dcd73ed641",
   "metadata": {},
   "source": [
    "# from all other datatype to int typecasting completed \n",
    "# complex & string with text is not allowed"
   ]
  },
  {
   "cell_type": "markdown",
   "id": "d861ef32-886c-4a90-aa06-57104e0be722",
   "metadata": {},
   "source": [
    "# 18th - type casting continue"
   ]
  },
  {
   "cell_type": "code",
   "execution_count": null,
   "id": "7dbd1dc3-ddba-4878-bd1e-7691abc898e6",
   "metadata": {},
   "outputs": [],
   "source": [
    "float(23)"
   ]
  },
  {
   "cell_type": "code",
   "execution_count": null,
   "id": "38f651ba-9885-4f98-bb82-71bae2acb26a",
   "metadata": {},
   "outputs": [],
   "source": [
    "float(23, 56)"
   ]
  },
  {
   "cell_type": "code",
   "execution_count": null,
   "id": "a03fd321-8ba9-41e4-b50c-4e73601e4041",
   "metadata": {},
   "outputs": [],
   "source": [
    "float(True)"
   ]
  },
  {
   "cell_type": "code",
   "execution_count": null,
   "id": "2488d272-d028-438f-8be2-3ebd84692ae4",
   "metadata": {},
   "outputs": [],
   "source": [
    "float(False)"
   ]
  },
  {
   "cell_type": "code",
   "execution_count": null,
   "id": "62738029-2952-4d20-8a25-c47979694730",
   "metadata": {},
   "outputs": [],
   "source": [
    "float(1+2j)"
   ]
  },
  {
   "cell_type": "code",
   "execution_count": null,
   "id": "c5df93d5-5881-4e45-9dba-db057219a182",
   "metadata": {},
   "outputs": [],
   "source": [
    "float('10')"
   ]
  },
  {
   "cell_type": "code",
   "execution_count": null,
   "id": "b6acbeb8-892d-40e2-a0ac-3c57e549ac23",
   "metadata": {},
   "outputs": [],
   "source": [
    "float('ten')"
   ]
  },
  {
   "cell_type": "markdown",
   "id": "f7f54cc6-60f9-40fa-9ef1-4496821a40a0",
   "metadata": {},
   "source": [
    "### from other datatypes to float except complex & 'string text'"
   ]
  },
  {
   "cell_type": "code",
   "execution_count": null,
   "id": "8bc6ffa0-6424-438b-a77d-7e35e6f02fd2",
   "metadata": {},
   "outputs": [],
   "source": [
    "complex(10)"
   ]
  },
  {
   "cell_type": "code",
   "execution_count": null,
   "id": "31b1e5d6-0d17-4370-baa1-a79352b55c3a",
   "metadata": {},
   "outputs": [],
   "source": [
    "complex(10, 20)"
   ]
  },
  {
   "cell_type": "code",
   "execution_count": null,
   "id": "884f208a-a3d7-4ca3-bb5d-fe7512130247",
   "metadata": {},
   "outputs": [],
   "source": [
    "complex(10, 20, 30)"
   ]
  },
  {
   "cell_type": "code",
   "execution_count": null,
   "id": "22f338a7-abab-4704-ac88-14345007f39a",
   "metadata": {},
   "outputs": [],
   "source": [
    "complex(True)"
   ]
  },
  {
   "cell_type": "code",
   "execution_count": null,
   "id": "1c9193e0-66e5-4e82-a3ba-141bcfa914c1",
   "metadata": {},
   "outputs": [],
   "source": [
    "complex(False)"
   ]
  },
  {
   "cell_type": "code",
   "execution_count": null,
   "id": "36d9cf5f-f0ad-4478-81b8-23a6bc968a07",
   "metadata": {},
   "outputs": [],
   "source": [
    "complex('10')"
   ]
  },
  {
   "cell_type": "code",
   "execution_count": null,
   "id": "b774713d-752a-4137-94cb-e8e24e1d18bf",
   "metadata": {},
   "outputs": [],
   "source": [
    "complex(3.2, 5.6)"
   ]
  },
  {
   "cell_type": "markdown",
   "id": "cca1365c-accf-49fe-8817-906111cbb823",
   "metadata": {},
   "source": [
    "# from other dataypes to complex & text string will not possible"
   ]
  },
  {
   "cell_type": "code",
   "execution_count": null,
   "id": "23c03436-5909-4af7-87ad-4181e9d927ba",
   "metadata": {},
   "outputs": [],
   "source": [
    "bool(10)"
   ]
  },
  {
   "cell_type": "code",
   "execution_count": null,
   "id": "b1020378-5678-4839-917d-8770f1f0c9eb",
   "metadata": {},
   "outputs": [],
   "source": [
    "bool(0)"
   ]
  },
  {
   "cell_type": "code",
   "execution_count": null,
   "id": "0ed9b473-beba-43e3-b39b-59c72321310f",
   "metadata": {},
   "outputs": [],
   "source": [
    "bool(3.2)"
   ]
  },
  {
   "cell_type": "code",
   "execution_count": null,
   "id": "a9f4f7eb-15ba-4c81-a2a0-1786b46d0304",
   "metadata": {},
   "outputs": [],
   "source": [
    "bool(0.0)"
   ]
  },
  {
   "cell_type": "code",
   "execution_count": null,
   "id": "fa7fa229-7864-4e41-a044-180027873f47",
   "metadata": {},
   "outputs": [],
   "source": [
    "bool(1+2j)"
   ]
  },
  {
   "cell_type": "code",
   "execution_count": null,
   "id": "a24d57da-e4f2-4dac-bbe6-0e7beb0d38d9",
   "metadata": {},
   "outputs": [],
   "source": [
    "bool(0+0j)"
   ]
  },
  {
   "cell_type": "code",
   "execution_count": null,
   "id": "9f8f2028-64ce-45ec-9fb8-19eb4b279b1f",
   "metadata": {},
   "outputs": [],
   "source": [
    "bool('ten')"
   ]
  },
  {
   "cell_type": "code",
   "execution_count": null,
   "id": "d93a0399-c92a-4e1e-9e07-64b46f4e8e23",
   "metadata": {},
   "outputs": [],
   "source": [
    "bool('10')"
   ]
  },
  {
   "cell_type": "code",
   "execution_count": null,
   "id": "5006d34c-ed57-491d-b549-26a11569473c",
   "metadata": {},
   "outputs": [],
   "source": [
    "bool(_)"
   ]
  },
  {
   "cell_type": "code",
   "execution_count": null,
   "id": "9f6c0794-c0af-456f-8e15-b52e16ef0c34",
   "metadata": {},
   "outputs": [],
   "source": [
    "bool( )"
   ]
  },
  {
   "cell_type": "markdown",
   "id": "40230629-4f18-4ba6-9308-1cf94657e925",
   "metadata": {},
   "source": [
    "### python type casting "
   ]
  },
  {
   "cell_type": "markdown",
   "id": "9d642dc0-7323-4e54-8914-e846790d0af7",
   "metadata": {},
   "source": [
    "- Variable completed\n",
    "- Datatype complete\n",
    "- Type casting "
   ]
  },
  {
   "cell_type": "markdown",
   "id": "929d5b8f-38e2-4c63-83af-c4c349d55e00",
   "metadata": {},
   "source": [
    "### STRING INDEXING & SLICING, ADVANCED SLCING    "
   ]
  },
  {
   "cell_type": "code",
   "execution_count": null,
   "id": "c9beb949-1905-42be-ac7f-226f8a2ac250",
   "metadata": {},
   "outputs": [],
   "source": [
    "9s = 'HELLOPYTHON'"
   ]
  },
  {
   "cell_type": "code",
   "execution_count": null,
   "id": "0428bc00-b76e-4c3b-9971-c1e3ec8bbf53",
   "metadata": {},
   "outputs": [],
   "source": [
    "s9 = 'HELLOPYTHON'"
   ]
  },
  {
   "cell_type": "code",
   "execution_count": null,
   "id": "ab3e1415-7a72-4c86-af12-fa3c566a5a26",
   "metadata": {},
   "outputs": [],
   "source": [
    "s9"
   ]
  },
  {
   "cell_type": "code",
   "execution_count": null,
   "id": "84bd059e-2271-4ed8-ab73-255653bbad57",
   "metadata": {},
   "outputs": [],
   "source": [
    "s9[:] # : slicing"
   ]
  },
  {
   "cell_type": "code",
   "execution_count": null,
   "id": "130428b4-9e64-49a4-b61b-7252d8dfdbad",
   "metadata": {},
   "outputs": [],
   "source": [
    "for i in s9:\n",
    "    print(i)"
   ]
  },
  {
   "cell_type": "code",
   "execution_count": null,
   "id": "2feffab4-6204-4419-b6fd-27df3d125140",
   "metadata": {},
   "outputs": [],
   "source": [
    "s9"
   ]
  },
  {
   "cell_type": "code",
   "execution_count": null,
   "id": "7c70848e-2c7f-4400-b63d-eb741c09a05e",
   "metadata": {},
   "outputs": [],
   "source": [
    "s9[11]"
   ]
  },
  {
   "cell_type": "code",
   "execution_count": null,
   "id": "521cb564-45aa-4774-b9ff-6f7df21ee6d7",
   "metadata": {},
   "outputs": [],
   "source": [
    "s9"
   ]
  },
  {
   "cell_type": "code",
   "execution_count": null,
   "id": "662d28f1-4843-4edf-8ed0-5168f974b19e",
   "metadata": {},
   "outputs": [],
   "source": [
    "s9[-4]"
   ]
  },
  {
   "cell_type": "code",
   "execution_count": null,
   "id": "0441aac4-a294-413d-b6b6-5662a72afe7f",
   "metadata": {},
   "outputs": [],
   "source": [
    "s9"
   ]
  },
  {
   "cell_type": "code",
   "execution_count": null,
   "id": "6bb9ecba-2001-42b6-9360-eae2b767157b",
   "metadata": {},
   "outputs": [],
   "source": [
    "s9[::-1]"
   ]
  },
  {
   "cell_type": "code",
   "execution_count": null,
   "id": "0b193bac-c9ac-4ad0-85cf-784d3dc3a7b6",
   "metadata": {},
   "outputs": [],
   "source": [
    "s9"
   ]
  },
  {
   "cell_type": "code",
   "execution_count": null,
   "id": "f8175723-4e10-49ae-8005-c692652429a7",
   "metadata": {},
   "outputs": [],
   "source": [
    "s9[0:5]"
   ]
  },
  {
   "cell_type": "code",
   "execution_count": null,
   "id": "72305041-bb18-4129-ba89-e79a8daebb69",
   "metadata": {},
   "outputs": [],
   "source": [
    "s9"
   ]
  },
  {
   "cell_type": "code",
   "execution_count": null,
   "id": "803208e5-e2f4-4d0d-9bf5-e24beb9b856a",
   "metadata": {},
   "outputs": [],
   "source": [
    "s9[0:-1]"
   ]
  },
  {
   "cell_type": "code",
   "execution_count": null,
   "id": "a2e382ba-822e-470c-a359-e79b7a8abe92",
   "metadata": {},
   "outputs": [],
   "source": [
    "s9"
   ]
  },
  {
   "cell_type": "code",
   "execution_count": null,
   "id": "f9e2ff46-f66a-4ddb-b53f-9831127b9012",
   "metadata": {},
   "outputs": [],
   "source": [
    "s9[1:20]"
   ]
  },
  {
   "cell_type": "code",
   "execution_count": null,
   "id": "1fdffd71-e20f-4d36-9b74-f4f9259b99c5",
   "metadata": {},
   "outputs": [],
   "source": [
    "s9"
   ]
  },
  {
   "cell_type": "code",
   "execution_count": null,
   "id": "9967c60d-97c1-4791-bf4c-19ce5340d80f",
   "metadata": {},
   "outputs": [],
   "source": [
    "s9[:5] "
   ]
  },
  {
   "cell_type": "code",
   "execution_count": null,
   "id": "a6230a17-7cf1-471a-9704-1128a30fdf10",
   "metadata": {},
   "outputs": [],
   "source": [
    "s9"
   ]
  },
  {
   "cell_type": "code",
   "execution_count": null,
   "id": "8e627f8d-69ab-4233-a29a-f4ce625f0432",
   "metadata": {},
   "outputs": [],
   "source": [
    "s9[5:]"
   ]
  },
  {
   "cell_type": "code",
   "execution_count": null,
   "id": "641c0e09-2a2a-4dd8-a703-206c97a6c4e0",
   "metadata": {},
   "outputs": [],
   "source": [
    "s9"
   ]
  },
  {
   "cell_type": "code",
   "execution_count": null,
   "id": "dbc53987-91bc-40da-9592-304d480ae2da",
   "metadata": {},
   "outputs": [],
   "source": [
    "s9[0:11:2]"
   ]
  },
  {
   "cell_type": "code",
   "execution_count": null,
   "id": "8ad7fe3a-3117-4deb-b47b-314a96adf760",
   "metadata": {},
   "outputs": [],
   "source": [
    "s9"
   ]
  },
  {
   "cell_type": "code",
   "execution_count": null,
   "id": "13fe784d-bb66-4bfa-b559-f6af3edd4a39",
   "metadata": {},
   "outputs": [],
   "source": [
    "s9[0:11:5]"
   ]
  },
  {
   "cell_type": "code",
   "execution_count": null,
   "id": "0a5e8b2f-ef18-4ec5-a88b-6bede1f048ba",
   "metadata": {},
   "outputs": [],
   "source": [
    "s9[::-1]"
   ]
  },
  {
   "cell_type": "code",
   "execution_count": null,
   "id": "25466190-0bdd-4d33-afb5-c7bc92a1c5bf",
   "metadata": {},
   "outputs": [],
   "source": [
    "s9"
   ]
  },
  {
   "cell_type": "code",
   "execution_count": null,
   "id": "810de1a8-840c-4fd6-b2e7-10afd638d63c",
   "metadata": {},
   "outputs": [],
   "source": [
    "s9[::-3]"
   ]
  },
  {
   "cell_type": "markdown",
   "id": "45ddc1ea-ac96-4448-bddc-abfc8c6b887c",
   "metadata": {},
   "source": [
    "#### string indexing & slcing we are completed & tomorrow we will be introduce python datastructure"
   ]
  },
  {
   "cell_type": "code",
   "execution_count": null,
   "id": "98fa902b-c451-4da1-9a1a-bc996cc1abb1",
   "metadata": {},
   "outputs": [],
   "source": [
    "num1=20\n",
    "num2=30\n",
    "add=num1+num2\n",
    "print(add)\n",
    "\n",
    "#print('The addition of {} and {} is= {}'.format(num1,num2,add))"
   ]
  },
  {
   "cell_type": "code",
   "execution_count": null,
   "id": "f085d141-fb75-4f92-ab2e-ce19a17e9a53",
   "metadata": {},
   "outputs": [],
   "source": [
    "num1=20\n",
    "num2=30\n",
    "add=num1+num2\n",
    "\n",
    "print('The addition of {} and {} is= {}'.format(num1,num2,add))"
   ]
  },
  {
   "cell_type": "code",
   "execution_count": null,
   "id": "a4e41df0-367c-46d3-b665-c4c2d95503a7",
   "metadata": {},
   "outputs": [],
   "source": [
    "num1=20\n",
    "num2=30\n",
    "num3=40\n",
    "add=num1+num2+num3\n",
    "\n",
    "print('The addition of {} and {} and {} is= {}'.format(num1,num2,num3,add))"
   ]
  },
  {
   "cell_type": "markdown",
   "id": "83778406-9e76-42c3-9e63-7dd34e089bfe",
   "metadata": {},
   "source": [
    "# 21st Apr"
   ]
  },
  {
   "cell_type": "code",
   "execution_count": null,
   "id": "67ffa238-43a8-4012-a3a2-dbc2a65acad4",
   "metadata": {},
   "outputs": [],
   "source": [
    "i = 5.5\n",
    "type(i)"
   ]
  },
  {
   "cell_type": "markdown",
   "id": "f4297c3e-a05e-43d9-8e61-a576f8986a9b",
   "metadata": {},
   "source": [
    "# LIST "
   ]
  },
  {
   "cell_type": "code",
   "execution_count": 11,
   "id": "54beaea1-d9e5-4acd-95ff-6098f70ac009",
   "metadata": {},
   "outputs": [
    {
     "data": {
      "text/plain": [
       "[]"
      ]
     },
     "execution_count": 11,
     "metadata": {},
     "output_type": "execute_result"
    }
   ],
   "source": [
    "l = []\n",
    "l"
   ]
  },
  {
   "cell_type": "code",
   "execution_count": 12,
   "id": "808c6b8d-f63c-4c4b-b001-f1a6905d1257",
   "metadata": {},
   "outputs": [
    {
     "data": {
      "text/plain": [
       "list"
      ]
     },
     "execution_count": 12,
     "metadata": {},
     "output_type": "execute_result"
    }
   ],
   "source": [
    "type(l)"
   ]
  },
  {
   "cell_type": "code",
   "execution_count": 13,
   "id": "eea16357-ca64-4a62-bcb3-33dcdaf50f70",
   "metadata": {},
   "outputs": [],
   "source": [
    "l.append(10)"
   ]
  },
  {
   "cell_type": "code",
   "execution_count": 14,
   "id": "79da59eb-ad64-4b9b-b0b4-4e6a9b800c87",
   "metadata": {},
   "outputs": [
    {
     "data": {
      "text/plain": [
       "[10]"
      ]
     },
     "execution_count": 14,
     "metadata": {},
     "output_type": "execute_result"
    }
   ],
   "source": [
    "l"
   ]
  },
  {
   "cell_type": "code",
   "execution_count": 15,
   "id": "c1d1f097-9f1f-4585-bb66-ace74e1a13c3",
   "metadata": {},
   "outputs": [],
   "source": [
    "l.append(20)\n",
    "l.append(30)\n",
    "l.append(40)\n",
    "l.append(50)"
   ]
  },
  {
   "cell_type": "code",
   "execution_count": 16,
   "id": "f1c5bd10-f09c-47f3-9d09-6ddbeab71373",
   "metadata": {},
   "outputs": [
    {
     "data": {
      "text/plain": [
       "[10, 20, 30, 40, 50]"
      ]
     },
     "execution_count": 16,
     "metadata": {},
     "output_type": "execute_result"
    }
   ],
   "source": [
    "l"
   ]
  },
  {
   "cell_type": "code",
   "execution_count": 17,
   "id": "712c87de-d1fa-4a8f-9125-8aa14fbd3296",
   "metadata": {},
   "outputs": [],
   "source": [
    "l.append(60)"
   ]
  },
  {
   "cell_type": "code",
   "execution_count": 18,
   "id": "9f8d5d27-90ce-45c7-a52e-eca917bd10c4",
   "metadata": {},
   "outputs": [
    {
     "ename": "TypeError",
     "evalue": "list.append() takes exactly one argument (3 given)",
     "output_type": "error",
     "traceback": [
      "\u001b[1;31m---------------------------------------------------------------------------\u001b[0m",
      "\u001b[1;31mTypeError\u001b[0m                                 Traceback (most recent call last)",
      "Cell \u001b[1;32mIn[18], line 1\u001b[0m\n\u001b[1;32m----> 1\u001b[0m l\u001b[38;5;241m.\u001b[39mappend(\u001b[38;5;241m70\u001b[39m,\u001b[38;5;241m80\u001b[39m,\u001b[38;5;241m90\u001b[39m)\n",
      "\u001b[1;31mTypeError\u001b[0m: list.append() takes exactly one argument (3 given)"
     ]
    }
   ],
   "source": [
    "l.append(70,80,90)"
   ]
  },
  {
   "cell_type": "code",
   "execution_count": null,
   "id": "18d46d88-1022-4e1c-80c7-c8ee28ee0848",
   "metadata": {},
   "outputs": [],
   "source": [
    "l"
   ]
  },
  {
   "cell_type": "code",
   "execution_count": null,
   "id": "24980694-425b-4bf1-8e88-4df62bd06001",
   "metadata": {},
   "outputs": [],
   "source": [
    "l.append(10)"
   ]
  },
  {
   "cell_type": "code",
   "execution_count": null,
   "id": "071a95c3-dc58-4be3-a025-095e70d66f3e",
   "metadata": {},
   "outputs": [],
   "source": [
    "l"
   ]
  },
  {
   "cell_type": "code",
   "execution_count": null,
   "id": "7a82dfe8-1b25-4e00-a4ed-1b3be4c98571",
   "metadata": {},
   "outputs": [],
   "source": [
    "len(l)"
   ]
  },
  {
   "cell_type": "code",
   "execution_count": null,
   "id": "851bea44-10a0-49b9-8e83-6396cb213a1b",
   "metadata": {},
   "outputs": [],
   "source": [
    "l1 = l.copy()"
   ]
  },
  {
   "cell_type": "code",
   "execution_count": null,
   "id": "58527906-4d88-48f3-9c51-0cbca23ebc3d",
   "metadata": {},
   "outputs": [],
   "source": [
    "l1"
   ]
  },
  {
   "cell_type": "code",
   "execution_count": 19,
   "id": "0ada1e30-1d49-4982-861d-6c2594f08952",
   "metadata": {},
   "outputs": [
    {
     "ename": "NameError",
     "evalue": "name 'l1' is not defined",
     "output_type": "error",
     "traceback": [
      "\u001b[1;31m---------------------------------------------------------------------------\u001b[0m",
      "\u001b[1;31mNameError\u001b[0m                                 Traceback (most recent call last)",
      "Cell \u001b[1;32mIn[19], line 1\u001b[0m\n\u001b[1;32m----> 1\u001b[0m l1\u001b[38;5;241m.\u001b[39mappend(\u001b[38;5;241m2.3\u001b[39m)\n\u001b[0;32m      2\u001b[0m l1\u001b[38;5;241m.\u001b[39mappend(\u001b[38;5;124m'\u001b[39m\u001b[38;5;124mnit\u001b[39m\u001b[38;5;124m'\u001b[39m)\n\u001b[0;32m      3\u001b[0m l1\u001b[38;5;241m.\u001b[39mappend(\u001b[38;5;241m1\u001b[39m\u001b[38;5;241m+\u001b[39m\u001b[38;5;241m2\u001b[39mj)\n",
      "\u001b[1;31mNameError\u001b[0m: name 'l1' is not defined"
     ]
    }
   ],
   "source": [
    "l1.append(2.3)\n",
    "l1.append('nit')\n",
    "l1.append(1+2j)\n",
    "l1.append([1,2,3])"
   ]
  },
  {
   "cell_type": "code",
   "execution_count": 20,
   "id": "dd9e34c9-ae3b-4018-b1bf-f37869debbd0",
   "metadata": {},
   "outputs": [
    {
     "name": "stdout",
     "output_type": "stream",
     "text": [
      "[10, 20, 30, 40, 50, 60]\n"
     ]
    },
    {
     "ename": "NameError",
     "evalue": "name 'l1' is not defined",
     "output_type": "error",
     "traceback": [
      "\u001b[1;31m---------------------------------------------------------------------------\u001b[0m",
      "\u001b[1;31mNameError\u001b[0m                                 Traceback (most recent call last)",
      "Cell \u001b[1;32mIn[20], line 2\u001b[0m\n\u001b[0;32m      1\u001b[0m \u001b[38;5;28mprint\u001b[39m(l)\n\u001b[1;32m----> 2\u001b[0m \u001b[38;5;28mprint\u001b[39m(l1)\n",
      "\u001b[1;31mNameError\u001b[0m: name 'l1' is not defined"
     ]
    }
   ],
   "source": [
    "print(l)\n",
    "print(l1)"
   ]
  },
  {
   "cell_type": "code",
   "execution_count": 21,
   "id": "12207b71-21cc-4688-b75d-3e1be801c65c",
   "metadata": {},
   "outputs": [
    {
     "name": "stdout",
     "output_type": "stream",
     "text": [
      "6\n"
     ]
    },
    {
     "ename": "NameError",
     "evalue": "name 'l1' is not defined",
     "output_type": "error",
     "traceback": [
      "\u001b[1;31m---------------------------------------------------------------------------\u001b[0m",
      "\u001b[1;31mNameError\u001b[0m                                 Traceback (most recent call last)",
      "Cell \u001b[1;32mIn[21], line 2\u001b[0m\n\u001b[0;32m      1\u001b[0m \u001b[38;5;28mprint\u001b[39m(\u001b[38;5;28mlen\u001b[39m(l))\n\u001b[1;32m----> 2\u001b[0m \u001b[38;5;28mprint\u001b[39m(\u001b[38;5;28mlen\u001b[39m(l1))\n",
      "\u001b[1;31mNameError\u001b[0m: name 'l1' is not defined"
     ]
    }
   ],
   "source": [
    "print(len(l))\n",
    "print(len(l1))"
   ]
  },
  {
   "cell_type": "code",
   "execution_count": 22,
   "id": "fd92334e-39b1-4308-8658-79a431247788",
   "metadata": {},
   "outputs": [
    {
     "ename": "NameError",
     "evalue": "name 'l1' is not defined",
     "output_type": "error",
     "traceback": [
      "\u001b[1;31m---------------------------------------------------------------------------\u001b[0m",
      "\u001b[1;31mNameError\u001b[0m                                 Traceback (most recent call last)",
      "Cell \u001b[1;32mIn[22], line 1\u001b[0m\n\u001b[1;32m----> 1\u001b[0m l \u001b[38;5;241m==\u001b[39m l1\n",
      "\u001b[1;31mNameError\u001b[0m: name 'l1' is not defined"
     ]
    }
   ],
   "source": [
    "l == l1"
   ]
  },
  {
   "cell_type": "code",
   "execution_count": 23,
   "id": "006b9e23-71f7-4769-bd28-83b1d2debec5",
   "metadata": {},
   "outputs": [],
   "source": [
    "l2 = l.copy()"
   ]
  },
  {
   "cell_type": "code",
   "execution_count": 24,
   "id": "5b6c5d17-22d0-45a7-a24b-a0061d45ecba",
   "metadata": {},
   "outputs": [
    {
     "data": {
      "text/plain": [
       "[10, 20, 30, 40, 50, 60]"
      ]
     },
     "execution_count": 24,
     "metadata": {},
     "output_type": "execute_result"
    }
   ],
   "source": [
    "l2"
   ]
  },
  {
   "cell_type": "code",
   "execution_count": 25,
   "id": "733713fe-f3d7-4d55-bec8-27d40a305d2f",
   "metadata": {},
   "outputs": [
    {
     "data": {
      "text/plain": [
       "True"
      ]
     },
     "execution_count": 25,
     "metadata": {},
     "output_type": "execute_result"
    }
   ],
   "source": [
    "l == l2"
   ]
  },
  {
   "cell_type": "code",
   "execution_count": 26,
   "id": "40861334-c0f4-4aed-afdf-d454b5af9023",
   "metadata": {},
   "outputs": [
    {
     "name": "stdout",
     "output_type": "stream",
     "text": [
      "[10, 20, 30, 40, 50, 60]\n"
     ]
    },
    {
     "ename": "NameError",
     "evalue": "name 'l1' is not defined",
     "output_type": "error",
     "traceback": [
      "\u001b[1;31m---------------------------------------------------------------------------\u001b[0m",
      "\u001b[1;31mNameError\u001b[0m                                 Traceback (most recent call last)",
      "Cell \u001b[1;32mIn[26], line 2\u001b[0m\n\u001b[0;32m      1\u001b[0m \u001b[38;5;28mprint\u001b[39m(l)\n\u001b[1;32m----> 2\u001b[0m \u001b[38;5;28mprint\u001b[39m(l1)\n\u001b[0;32m      3\u001b[0m \u001b[38;5;28mprint\u001b[39m(l2)\n",
      "\u001b[1;31mNameError\u001b[0m: name 'l1' is not defined"
     ]
    }
   ],
   "source": [
    "print(l)\n",
    "print(l1)\n",
    "print(l2)"
   ]
  },
  {
   "cell_type": "code",
   "execution_count": 27,
   "id": "5fe3c523-bb9b-4e8b-b9b5-2aadcdc28ac8",
   "metadata": {},
   "outputs": [
    {
     "data": {
      "text/plain": [
       "[10, 20, 30, 40, 50, 60]"
      ]
     },
     "execution_count": 27,
     "metadata": {},
     "output_type": "execute_result"
    }
   ],
   "source": [
    "l"
   ]
  },
  {
   "cell_type": "code",
   "execution_count": 28,
   "id": "63c11be7-4545-4fc5-8205-3f172a6e7233",
   "metadata": {},
   "outputs": [
    {
     "data": {
      "text/plain": [
       "[10, 20, 30, 40, 50, 60]"
      ]
     },
     "execution_count": 28,
     "metadata": {},
     "output_type": "execute_result"
    }
   ],
   "source": [
    "l[:]"
   ]
  },
  {
   "cell_type": "code",
   "execution_count": 29,
   "id": "e4611691-6665-4388-adf6-a19623504973",
   "metadata": {},
   "outputs": [
    {
     "data": {
      "text/plain": [
       "10"
      ]
     },
     "execution_count": 29,
     "metadata": {},
     "output_type": "execute_result"
    }
   ],
   "source": [
    "l[0]"
   ]
  },
  {
   "cell_type": "code",
   "execution_count": 30,
   "id": "eaf3d0b4-2489-4f42-ad64-feb9d4afddcc",
   "metadata": {},
   "outputs": [],
   "source": [
    "l[0] = 100 # mutable "
   ]
  },
  {
   "cell_type": "code",
   "execution_count": 31,
   "id": "58621a3c-9dec-42c7-9ac3-1d2e11cc3256",
   "metadata": {},
   "outputs": [
    {
     "data": {
      "text/plain": [
       "[100, 20, 30, 40, 50, 60]"
      ]
     },
     "execution_count": 31,
     "metadata": {},
     "output_type": "execute_result"
    }
   ],
   "source": [
    "l"
   ]
  },
  {
   "cell_type": "code",
   "execution_count": 32,
   "id": "31f70209-8ac1-49ef-a0b3-5961d6a23b14",
   "metadata": {},
   "outputs": [],
   "source": [
    "l[-1] = 200"
   ]
  },
  {
   "cell_type": "code",
   "execution_count": 33,
   "id": "0f0e6e55-7db2-4189-9b4c-f3a9719fc398",
   "metadata": {},
   "outputs": [
    {
     "data": {
      "text/plain": [
       "[100, 20, 30, 40, 50, 200]"
      ]
     },
     "execution_count": 33,
     "metadata": {},
     "output_type": "execute_result"
    }
   ],
   "source": [
    "l"
   ]
  },
  {
   "cell_type": "code",
   "execution_count": 34,
   "id": "8603c350-3cf0-489e-a7bf-6f46d5ebf15f",
   "metadata": {},
   "outputs": [
    {
     "data": {
      "text/plain": [
       "[40, 50, 200]"
      ]
     },
     "execution_count": 34,
     "metadata": {},
     "output_type": "execute_result"
    }
   ],
   "source": [
    "l[3:]"
   ]
  },
  {
   "cell_type": "code",
   "execution_count": 35,
   "id": "65679dc2-15fb-4ef0-b20a-fe420ee951f8",
   "metadata": {},
   "outputs": [
    {
     "data": {
      "text/plain": [
       "[100, 20, 30, 40, 50, 200]"
      ]
     },
     "execution_count": 35,
     "metadata": {},
     "output_type": "execute_result"
    }
   ],
   "source": [
    "l"
   ]
  },
  {
   "cell_type": "code",
   "execution_count": 36,
   "id": "2b24a4d0-6936-45c4-b6bf-2a4fe5a5d4e0",
   "metadata": {},
   "outputs": [
    {
     "ename": "IndexError",
     "evalue": "list index out of range",
     "output_type": "error",
     "traceback": [
      "\u001b[1;31m---------------------------------------------------------------------------\u001b[0m",
      "\u001b[1;31mIndexError\u001b[0m                                Traceback (most recent call last)",
      "Cell \u001b[1;32mIn[36], line 1\u001b[0m\n\u001b[1;32m----> 1\u001b[0m l[\u001b[38;5;241m10\u001b[39m]\n",
      "\u001b[1;31mIndexError\u001b[0m: list index out of range"
     ]
    }
   ],
   "source": [
    "l[10]"
   ]
  },
  {
   "cell_type": "code",
   "execution_count": 37,
   "id": "e32b8db9-5609-4ad3-b7e0-38d5b2ef6347",
   "metadata": {},
   "outputs": [
    {
     "data": {
      "text/plain": [
       "[100, 20, 30, 40, 50, 200]"
      ]
     },
     "execution_count": 37,
     "metadata": {},
     "output_type": "execute_result"
    }
   ],
   "source": [
    "l"
   ]
  },
  {
   "cell_type": "code",
   "execution_count": 38,
   "id": "bfcc668d-82ea-4859-9ea8-8782fd4c904e",
   "metadata": {},
   "outputs": [
    {
     "data": {
      "text/plain": [
       "[]"
      ]
     },
     "execution_count": 38,
     "metadata": {},
     "output_type": "execute_result"
    }
   ],
   "source": [
    "l[10:]"
   ]
  },
  {
   "cell_type": "code",
   "execution_count": 39,
   "id": "713fe56e-38b3-413a-ae74-c204957c509d",
   "metadata": {},
   "outputs": [
    {
     "data": {
      "text/plain": [
       "[100, 20, 30, 40, 50, 200]"
      ]
     },
     "execution_count": 39,
     "metadata": {},
     "output_type": "execute_result"
    }
   ],
   "source": [
    "l"
   ]
  },
  {
   "cell_type": "code",
   "execution_count": 40,
   "id": "5e0b5a1d-bcdd-4959-a314-c7dee4e956cd",
   "metadata": {},
   "outputs": [
    {
     "data": {
      "text/plain": [
       "[100, 20, 30, 40, 50, 200]"
      ]
     },
     "execution_count": 40,
     "metadata": {},
     "output_type": "execute_result"
    }
   ],
   "source": [
    "l[:10]"
   ]
  },
  {
   "cell_type": "code",
   "execution_count": 41,
   "id": "d6585efd-655b-4095-8524-357d691740c2",
   "metadata": {},
   "outputs": [
    {
     "data": {
      "text/plain": [
       "[100, 20, 30, 40, 50, 200]"
      ]
     },
     "execution_count": 41,
     "metadata": {},
     "output_type": "execute_result"
    }
   ],
   "source": [
    "l"
   ]
  },
  {
   "cell_type": "code",
   "execution_count": 42,
   "id": "b855acbc-a0ad-4c0b-9dc1-1516778ef834",
   "metadata": {},
   "outputs": [
    {
     "data": {
      "text/plain": [
       "200"
      ]
     },
     "execution_count": 42,
     "metadata": {},
     "output_type": "execute_result"
    }
   ],
   "source": [
    "l[-1]"
   ]
  },
  {
   "cell_type": "code",
   "execution_count": 43,
   "id": "149fb4de-3920-416f-b10e-ed746c206f84",
   "metadata": {},
   "outputs": [
    {
     "data": {
      "text/plain": [
       "[10, 20, 30, 40, 50, 60]"
      ]
     },
     "execution_count": 43,
     "metadata": {},
     "output_type": "execute_result"
    }
   ],
   "source": [
    "l2"
   ]
  },
  {
   "cell_type": "code",
   "execution_count": 44,
   "id": "1cf394cc-2bea-4eec-8794-34fdba918abd",
   "metadata": {},
   "outputs": [],
   "source": [
    "l2.clear()"
   ]
  },
  {
   "cell_type": "code",
   "execution_count": 45,
   "id": "4f4adefd-c687-4dc3-8b39-44c6a174e088",
   "metadata": {},
   "outputs": [
    {
     "data": {
      "text/plain": [
       "[]"
      ]
     },
     "execution_count": 45,
     "metadata": {},
     "output_type": "execute_result"
    }
   ],
   "source": [
    "l2"
   ]
  },
  {
   "cell_type": "code",
   "execution_count": 46,
   "id": "b59a96d0-f77e-46e9-98f2-20767409cd2d",
   "metadata": {},
   "outputs": [],
   "source": [
    "del l2"
   ]
  },
  {
   "cell_type": "code",
   "execution_count": 47,
   "id": "b1956872-769c-4d27-8c07-226236605de4",
   "metadata": {},
   "outputs": [
    {
     "ename": "NameError",
     "evalue": "name 'l2' is not defined",
     "output_type": "error",
     "traceback": [
      "\u001b[1;31m---------------------------------------------------------------------------\u001b[0m",
      "\u001b[1;31mNameError\u001b[0m                                 Traceback (most recent call last)",
      "Cell \u001b[1;32mIn[47], line 1\u001b[0m\n\u001b[1;32m----> 1\u001b[0m l2\n",
      "\u001b[1;31mNameError\u001b[0m: name 'l2' is not defined"
     ]
    }
   ],
   "source": [
    "l2"
   ]
  },
  {
   "cell_type": "code",
   "execution_count": 48,
   "id": "8fe9d8fd-04d5-4bc8-8839-16691dd5d0a5",
   "metadata": {},
   "outputs": [
    {
     "ename": "NameError",
     "evalue": "name 'l1' is not defined",
     "output_type": "error",
     "traceback": [
      "\u001b[1;31m---------------------------------------------------------------------------\u001b[0m",
      "\u001b[1;31mNameError\u001b[0m                                 Traceback (most recent call last)",
      "Cell \u001b[1;32mIn[48], line 1\u001b[0m\n\u001b[1;32m----> 1\u001b[0m l1\n",
      "\u001b[1;31mNameError\u001b[0m: name 'l1' is not defined"
     ]
    }
   ],
   "source": [
    "l1"
   ]
  },
  {
   "cell_type": "code",
   "execution_count": 49,
   "id": "39235bb5-af50-4a22-bcc1-201aed52794c",
   "metadata": {},
   "outputs": [
    {
     "ename": "NameError",
     "evalue": "name 'l1' is not defined",
     "output_type": "error",
     "traceback": [
      "\u001b[1;31m---------------------------------------------------------------------------\u001b[0m",
      "\u001b[1;31mNameError\u001b[0m                                 Traceback (most recent call last)",
      "Cell \u001b[1;32mIn[49], line 1\u001b[0m\n\u001b[1;32m----> 1\u001b[0m l1[\u001b[38;5;241m0\u001b[39m:\u001b[38;5;241m12\u001b[39m:\u001b[38;5;241m5\u001b[39m]\n",
      "\u001b[1;31mNameError\u001b[0m: name 'l1' is not defined"
     ]
    }
   ],
   "source": [
    "l1[0:12:5]"
   ]
  },
  {
   "cell_type": "code",
   "execution_count": 50,
   "id": "6e935409-607f-4f24-beef-6b112ca94c1f",
   "metadata": {},
   "outputs": [
    {
     "ename": "NameError",
     "evalue": "name 'l1' is not defined",
     "output_type": "error",
     "traceback": [
      "\u001b[1;31m---------------------------------------------------------------------------\u001b[0m",
      "\u001b[1;31mNameError\u001b[0m                                 Traceback (most recent call last)",
      "Cell \u001b[1;32mIn[50], line 1\u001b[0m\n\u001b[1;32m----> 1\u001b[0m l1\n",
      "\u001b[1;31mNameError\u001b[0m: name 'l1' is not defined"
     ]
    }
   ],
   "source": [
    "l1"
   ]
  },
  {
   "cell_type": "code",
   "execution_count": 51,
   "id": "0bdcdd2a-d8c1-49c8-86f0-1356e6ab8d9c",
   "metadata": {},
   "outputs": [
    {
     "ename": "NameError",
     "evalue": "name 'l1' is not defined",
     "output_type": "error",
     "traceback": [
      "\u001b[1;31m---------------------------------------------------------------------------\u001b[0m",
      "\u001b[1;31mNameError\u001b[0m                                 Traceback (most recent call last)",
      "Cell \u001b[1;32mIn[51], line 1\u001b[0m\n\u001b[1;32m----> 1\u001b[0m l1[\u001b[38;5;241m0\u001b[39m:\u001b[38;5;241m11\u001b[39m:\u001b[38;5;241m3\u001b[39m]\n",
      "\u001b[1;31mNameError\u001b[0m: name 'l1' is not defined"
     ]
    }
   ],
   "source": [
    "l1[0:11:3]"
   ]
  },
  {
   "cell_type": "code",
   "execution_count": 52,
   "id": "9b286977-65f7-4f45-aa58-f5788df8ca53",
   "metadata": {},
   "outputs": [
    {
     "data": {
      "text/plain": [
       "[100, 20, 30, 40, 50, 200]"
      ]
     },
     "execution_count": 52,
     "metadata": {},
     "output_type": "execute_result"
    }
   ],
   "source": [
    "l"
   ]
  },
  {
   "cell_type": "code",
   "execution_count": 53,
   "id": "1c7f3e58-c04b-4339-80c2-c8956aa8c4d3",
   "metadata": {},
   "outputs": [
    {
     "ename": "NameError",
     "evalue": "name 'l1' is not defined",
     "output_type": "error",
     "traceback": [
      "\u001b[1;31m---------------------------------------------------------------------------\u001b[0m",
      "\u001b[1;31mNameError\u001b[0m                                 Traceback (most recent call last)",
      "Cell \u001b[1;32mIn[53], line 1\u001b[0m\n\u001b[1;32m----> 1\u001b[0m l1\u001b[38;5;241m.\u001b[39mindex(\u001b[38;5;124m'\u001b[39m\u001b[38;5;124mnit\u001b[39m\u001b[38;5;124m'\u001b[39m)\n",
      "\u001b[1;31mNameError\u001b[0m: name 'l1' is not defined"
     ]
    }
   ],
   "source": [
    "l1.index('nit')"
   ]
  },
  {
   "cell_type": "markdown",
   "id": "eef8970f-3ce1-4cf5-a7bc-caaa2e1fd90b",
   "metadata": {},
   "source": [
    "# 22nd"
   ]
  },
  {
   "cell_type": "code",
   "execution_count": 54,
   "id": "5d580ce8-ca44-4483-94b6-89ed1c724467",
   "metadata": {},
   "outputs": [
    {
     "name": "stdout",
     "output_type": "stream",
     "text": [
      "[100, 20, 30, 40, 50, 200]\n"
     ]
    },
    {
     "ename": "NameError",
     "evalue": "name 'l1' is not defined",
     "output_type": "error",
     "traceback": [
      "\u001b[1;31m---------------------------------------------------------------------------\u001b[0m",
      "\u001b[1;31mNameError\u001b[0m                                 Traceback (most recent call last)",
      "Cell \u001b[1;32mIn[54], line 2\u001b[0m\n\u001b[0;32m      1\u001b[0m \u001b[38;5;28mprint\u001b[39m(l)\n\u001b[1;32m----> 2\u001b[0m \u001b[38;5;28mprint\u001b[39m(l1)\n",
      "\u001b[1;31mNameError\u001b[0m: name 'l1' is not defined"
     ]
    }
   ],
   "source": [
    "print(l)\n",
    "print(l1)"
   ]
  },
  {
   "cell_type": "code",
   "execution_count": 55,
   "id": "1ac2fc91-5130-40f0-8820-a1fa62003773",
   "metadata": {},
   "outputs": [
    {
     "ename": "NameError",
     "evalue": "name 'l1' is not defined",
     "output_type": "error",
     "traceback": [
      "\u001b[1;31m---------------------------------------------------------------------------\u001b[0m",
      "\u001b[1;31mNameError\u001b[0m                                 Traceback (most recent call last)",
      "Cell \u001b[1;32mIn[55], line 1\u001b[0m\n\u001b[1;32m----> 1\u001b[0m l1[\u001b[38;5;241m8\u001b[39m]\n",
      "\u001b[1;31mNameError\u001b[0m: name 'l1' is not defined"
     ]
    }
   ],
   "source": [
    "l1[8]"
   ]
  },
  {
   "cell_type": "code",
   "execution_count": 56,
   "id": "515532c3-e0f3-4591-a9cc-9d5cc2e62e53",
   "metadata": {},
   "outputs": [
    {
     "ename": "NameError",
     "evalue": "name 'l1' is not defined",
     "output_type": "error",
     "traceback": [
      "\u001b[1;31m---------------------------------------------------------------------------\u001b[0m",
      "\u001b[1;31mNameError\u001b[0m                                 Traceback (most recent call last)",
      "Cell \u001b[1;32mIn[56], line 1\u001b[0m\n\u001b[1;32m----> 1\u001b[0m \u001b[38;5;28mprint\u001b[39m(l1[\u001b[38;5;241m8\u001b[39m][\u001b[38;5;241m0\u001b[39m])\n\u001b[0;32m      2\u001b[0m \u001b[38;5;28mprint\u001b[39m(l1[\u001b[38;5;241m8\u001b[39m][\u001b[38;5;241m1\u001b[39m]) \n\u001b[0;32m      3\u001b[0m \u001b[38;5;28mprint\u001b[39m(l1[\u001b[38;5;241m8\u001b[39m][\u001b[38;5;241m2\u001b[39m])\n",
      "\u001b[1;31mNameError\u001b[0m: name 'l1' is not defined"
     ]
    }
   ],
   "source": [
    "print(l1[8][0])\n",
    "print(l1[8][1]) \n",
    "print(l1[8][2])"
   ]
  },
  {
   "cell_type": "code",
   "execution_count": 57,
   "id": "bd097da4-5a46-4e27-961d-f8b8e1911fb7",
   "metadata": {},
   "outputs": [
    {
     "data": {
      "text/plain": [
       "[100, 20, 30, 40, 50, 200]"
      ]
     },
     "execution_count": 57,
     "metadata": {},
     "output_type": "execute_result"
    }
   ],
   "source": [
    "l"
   ]
  },
  {
   "cell_type": "code",
   "execution_count": 58,
   "id": "6d6bd499-f9e4-4d3f-a047-ceda50431d6e",
   "metadata": {},
   "outputs": [
    {
     "data": {
      "text/plain": [
       "1"
      ]
     },
     "execution_count": 58,
     "metadata": {},
     "output_type": "execute_result"
    }
   ],
   "source": [
    "l.count(100)"
   ]
  },
  {
   "cell_type": "code",
   "execution_count": 59,
   "id": "bd3bf204-a585-4306-9b4c-6f5b3e45c7ea",
   "metadata": {},
   "outputs": [
    {
     "ename": "NameError",
     "evalue": "name 'l1' is not defined",
     "output_type": "error",
     "traceback": [
      "\u001b[1;31m---------------------------------------------------------------------------\u001b[0m",
      "\u001b[1;31mNameError\u001b[0m                                 Traceback (most recent call last)",
      "Cell \u001b[1;32mIn[59], line 1\u001b[0m\n\u001b[1;32m----> 1\u001b[0m l1\n",
      "\u001b[1;31mNameError\u001b[0m: name 'l1' is not defined"
     ]
    }
   ],
   "source": [
    "l1"
   ]
  },
  {
   "cell_type": "code",
   "execution_count": 60,
   "id": "8ff8833a-2357-4ba5-a107-cdf729e3af24",
   "metadata": {},
   "outputs": [
    {
     "ename": "NameError",
     "evalue": "name 'l1' is not defined",
     "output_type": "error",
     "traceback": [
      "\u001b[1;31m---------------------------------------------------------------------------\u001b[0m",
      "\u001b[1;31mNameError\u001b[0m                                 Traceback (most recent call last)",
      "Cell \u001b[1;32mIn[60], line 1\u001b[0m\n\u001b[1;32m----> 1\u001b[0m l1\u001b[38;5;241m.\u001b[39mcount(\u001b[38;5;241m10\u001b[39m)\n",
      "\u001b[1;31mNameError\u001b[0m: name 'l1' is not defined"
     ]
    }
   ],
   "source": [
    "l1.count(10)"
   ]
  },
  {
   "cell_type": "code",
   "execution_count": 61,
   "id": "043daf80-052a-4b11-a7f6-912cb29162f3",
   "metadata": {},
   "outputs": [
    {
     "ename": "NameError",
     "evalue": "name 'l1' is not defined",
     "output_type": "error",
     "traceback": [
      "\u001b[1;31m---------------------------------------------------------------------------\u001b[0m",
      "\u001b[1;31mNameError\u001b[0m                                 Traceback (most recent call last)",
      "Cell \u001b[1;32mIn[61], line 1\u001b[0m\n\u001b[1;32m----> 1\u001b[0m l1\n",
      "\u001b[1;31mNameError\u001b[0m: name 'l1' is not defined"
     ]
    }
   ],
   "source": [
    "l1"
   ]
  },
  {
   "cell_type": "code",
   "execution_count": 62,
   "id": "c103f361-7ba6-49cf-a46a-dbdca5e5ce7c",
   "metadata": {},
   "outputs": [
    {
     "ename": "NameError",
     "evalue": "name 'l1' is not defined",
     "output_type": "error",
     "traceback": [
      "\u001b[1;31m---------------------------------------------------------------------------\u001b[0m",
      "\u001b[1;31mNameError\u001b[0m                                 Traceback (most recent call last)",
      "Cell \u001b[1;32mIn[62], line 1\u001b[0m\n\u001b[1;32m----> 1\u001b[0m l1\u001b[38;5;241m.\u001b[39mremove([\u001b[38;5;241m1\u001b[39m,\u001b[38;5;241m2\u001b[39m,\u001b[38;5;241m3\u001b[39m])\n",
      "\u001b[1;31mNameError\u001b[0m: name 'l1' is not defined"
     ]
    }
   ],
   "source": [
    "l1.remove([1,2,3])"
   ]
  },
  {
   "cell_type": "code",
   "execution_count": 63,
   "id": "89d91a5b-9968-4828-8e76-5f7f7fadc8d8",
   "metadata": {},
   "outputs": [
    {
     "ename": "NameError",
     "evalue": "name 'l1' is not defined",
     "output_type": "error",
     "traceback": [
      "\u001b[1;31m---------------------------------------------------------------------------\u001b[0m",
      "\u001b[1;31mNameError\u001b[0m                                 Traceback (most recent call last)",
      "Cell \u001b[1;32mIn[63], line 1\u001b[0m\n\u001b[1;32m----> 1\u001b[0m l1\n",
      "\u001b[1;31mNameError\u001b[0m: name 'l1' is not defined"
     ]
    }
   ],
   "source": [
    "l1"
   ]
  },
  {
   "cell_type": "code",
   "execution_count": 64,
   "id": "93b3927b-a7c7-49d3-899d-1d7028e23231",
   "metadata": {},
   "outputs": [
    {
     "ename": "NameError",
     "evalue": "name 'l1' is not defined",
     "output_type": "error",
     "traceback": [
      "\u001b[1;31m---------------------------------------------------------------------------\u001b[0m",
      "\u001b[1;31mNameError\u001b[0m                                 Traceback (most recent call last)",
      "Cell \u001b[1;32mIn[64], line 1\u001b[0m\n\u001b[1;32m----> 1\u001b[0m l1\u001b[38;5;241m.\u001b[39mremove(\u001b[38;5;241m10\u001b[39m)\n",
      "\u001b[1;31mNameError\u001b[0m: name 'l1' is not defined"
     ]
    }
   ],
   "source": [
    "l1.remove(10)"
   ]
  },
  {
   "cell_type": "code",
   "execution_count": 65,
   "id": "8a708158-4116-47bf-bb17-1fb03246bbed",
   "metadata": {},
   "outputs": [
    {
     "ename": "NameError",
     "evalue": "name 'l1' is not defined",
     "output_type": "error",
     "traceback": [
      "\u001b[1;31m---------------------------------------------------------------------------\u001b[0m",
      "\u001b[1;31mNameError\u001b[0m                                 Traceback (most recent call last)",
      "Cell \u001b[1;32mIn[65], line 1\u001b[0m\n\u001b[1;32m----> 1\u001b[0m l1\n",
      "\u001b[1;31mNameError\u001b[0m: name 'l1' is not defined"
     ]
    }
   ],
   "source": [
    "l1"
   ]
  },
  {
   "cell_type": "code",
   "execution_count": 66,
   "id": "f59c6675-c21c-45b3-b789-7af98fec0e0f",
   "metadata": {},
   "outputs": [
    {
     "data": {
      "text/plain": [
       "[100, 20, 30, 40, 50, 200]"
      ]
     },
     "execution_count": 66,
     "metadata": {},
     "output_type": "execute_result"
    }
   ],
   "source": [
    "l"
   ]
  },
  {
   "cell_type": "code",
   "execution_count": 67,
   "id": "bbbe7b4b-334a-4206-be4a-d37d6c8d416d",
   "metadata": {},
   "outputs": [],
   "source": [
    "l.append(25)"
   ]
  },
  {
   "cell_type": "code",
   "execution_count": 68,
   "id": "d17f2f9c-d541-48e8-afb8-f977cc49a344",
   "metadata": {},
   "outputs": [
    {
     "data": {
      "text/plain": [
       "[100, 20, 30, 40, 50, 200, 25]"
      ]
     },
     "execution_count": 68,
     "metadata": {},
     "output_type": "execute_result"
    }
   ],
   "source": [
    "l"
   ]
  },
  {
   "cell_type": "code",
   "execution_count": 69,
   "id": "d6e896c8-2a33-43af-b7bb-b678206420f5",
   "metadata": {},
   "outputs": [],
   "source": [
    "l.insert(2,25)"
   ]
  },
  {
   "cell_type": "code",
   "execution_count": 70,
   "id": "5505ea54-fe2c-47be-b4c1-f3a648356c0a",
   "metadata": {},
   "outputs": [
    {
     "data": {
      "text/plain": [
       "[100, 20, 25, 30, 40, 50, 200, 25]"
      ]
     },
     "execution_count": 70,
     "metadata": {},
     "output_type": "execute_result"
    }
   ],
   "source": [
    "l"
   ]
  },
  {
   "cell_type": "code",
   "execution_count": 71,
   "id": "d8ddef94-d4da-423e-be9f-738dacb4b85f",
   "metadata": {},
   "outputs": [
    {
     "data": {
      "text/plain": [
       "25"
      ]
     },
     "execution_count": 71,
     "metadata": {},
     "output_type": "execute_result"
    }
   ],
   "source": [
    "l.pop()"
   ]
  },
  {
   "cell_type": "code",
   "execution_count": 72,
   "id": "7b329dc2-da2d-4a8b-bdad-ad40336a654d",
   "metadata": {},
   "outputs": [
    {
     "data": {
      "text/plain": [
       "[100, 20, 25, 30, 40, 50, 200]"
      ]
     },
     "execution_count": 72,
     "metadata": {},
     "output_type": "execute_result"
    }
   ],
   "source": [
    "l"
   ]
  },
  {
   "cell_type": "code",
   "execution_count": 73,
   "id": "4ae99fe6-8547-42f1-ae28-30bcdede1ba0",
   "metadata": {
    "scrolled": true
   },
   "outputs": [
    {
     "ename": "NameError",
     "evalue": "name 'l1' is not defined",
     "output_type": "error",
     "traceback": [
      "\u001b[1;31m---------------------------------------------------------------------------\u001b[0m",
      "\u001b[1;31mNameError\u001b[0m                                 Traceback (most recent call last)",
      "Cell \u001b[1;32mIn[73], line 1\u001b[0m\n\u001b[1;32m----> 1\u001b[0m l1\n",
      "\u001b[1;31mNameError\u001b[0m: name 'l1' is not defined"
     ]
    }
   ],
   "source": [
    "l1"
   ]
  },
  {
   "cell_type": "code",
   "execution_count": 74,
   "id": "8ba9574e-dd77-43d6-b2de-cc6bb667b10a",
   "metadata": {},
   "outputs": [
    {
     "ename": "NameError",
     "evalue": "name 'l1' is not defined",
     "output_type": "error",
     "traceback": [
      "\u001b[1;31m---------------------------------------------------------------------------\u001b[0m",
      "\u001b[1;31mNameError\u001b[0m                                 Traceback (most recent call last)",
      "Cell \u001b[1;32mIn[74], line 1\u001b[0m\n\u001b[1;32m----> 1\u001b[0m l1\u001b[38;5;241m.\u001b[39mpop()\n",
      "\u001b[1;31mNameError\u001b[0m: name 'l1' is not defined"
     ]
    }
   ],
   "source": [
    "l1.pop()"
   ]
  },
  {
   "cell_type": "code",
   "execution_count": 75,
   "id": "5651b3c7-c73e-4186-be62-59c3f660da39",
   "metadata": {},
   "outputs": [
    {
     "ename": "NameError",
     "evalue": "name 'l1' is not defined",
     "output_type": "error",
     "traceback": [
      "\u001b[1;31m---------------------------------------------------------------------------\u001b[0m",
      "\u001b[1;31mNameError\u001b[0m                                 Traceback (most recent call last)",
      "Cell \u001b[1;32mIn[75], line 1\u001b[0m\n\u001b[1;32m----> 1\u001b[0m l1\n",
      "\u001b[1;31mNameError\u001b[0m: name 'l1' is not defined"
     ]
    }
   ],
   "source": [
    "l1"
   ]
  },
  {
   "cell_type": "code",
   "execution_count": 76,
   "id": "ee92b73d-e957-49d8-b005-d614f01384b2",
   "metadata": {},
   "outputs": [
    {
     "data": {
      "text/plain": [
       "[100, 20, 25, 30, 40, 50, 200]"
      ]
     },
     "execution_count": 76,
     "metadata": {},
     "output_type": "execute_result"
    }
   ],
   "source": [
    "l"
   ]
  },
  {
   "cell_type": "code",
   "execution_count": 77,
   "id": "295d67de-5ce5-4bc1-bf07-22da19b53822",
   "metadata": {},
   "outputs": [
    {
     "data": {
      "text/plain": [
       "[20, 25, 30, 40, 50, 200]"
      ]
     },
     "execution_count": 77,
     "metadata": {},
     "output_type": "execute_result"
    }
   ],
   "source": [
    "l.remove(100)\n",
    "l"
   ]
  },
  {
   "cell_type": "code",
   "execution_count": 78,
   "id": "a676e367-728b-46ae-a3c2-0469ac966fec",
   "metadata": {},
   "outputs": [
    {
     "ename": "IndexError",
     "evalue": "pop index out of range",
     "output_type": "error",
     "traceback": [
      "\u001b[1;31m---------------------------------------------------------------------------\u001b[0m",
      "\u001b[1;31mIndexError\u001b[0m                                Traceback (most recent call last)",
      "Cell \u001b[1;32mIn[78], line 1\u001b[0m\n\u001b[1;32m----> 1\u001b[0m l\u001b[38;5;241m.\u001b[39mpop(\u001b[38;5;241m20\u001b[39m)\n",
      "\u001b[1;31mIndexError\u001b[0m: pop index out of range"
     ]
    }
   ],
   "source": [
    "l.pop(20)"
   ]
  },
  {
   "cell_type": "code",
   "execution_count": 79,
   "id": "fcb7a0a9-3026-4191-bad9-ece5f6bcf14c",
   "metadata": {},
   "outputs": [
    {
     "data": {
      "text/plain": [
       "[20, 25, 30, 40, 50, 200]"
      ]
     },
     "execution_count": 79,
     "metadata": {},
     "output_type": "execute_result"
    }
   ],
   "source": [
    "l"
   ]
  },
  {
   "cell_type": "code",
   "execution_count": 80,
   "id": "9fb9f2e5-72db-40b0-bc61-c442044a41a8",
   "metadata": {},
   "outputs": [
    {
     "data": {
      "text/plain": [
       "20"
      ]
     },
     "execution_count": 80,
     "metadata": {},
     "output_type": "execute_result"
    }
   ],
   "source": [
    "l.pop(0)"
   ]
  },
  {
   "cell_type": "code",
   "execution_count": 81,
   "id": "95a3c952-76a6-462e-98c0-1fa52eff1610",
   "metadata": {},
   "outputs": [
    {
     "data": {
      "text/plain": [
       "[25, 30, 40, 50, 200]"
      ]
     },
     "execution_count": 81,
     "metadata": {},
     "output_type": "execute_result"
    }
   ],
   "source": [
    "l"
   ]
  },
  {
   "cell_type": "code",
   "execution_count": 82,
   "id": "7c7d490c-c734-4490-aafa-30451ce2a697",
   "metadata": {},
   "outputs": [
    {
     "data": {
      "text/plain": [
       "[25, 30, 40, 50, 200]"
      ]
     },
     "execution_count": 82,
     "metadata": {},
     "output_type": "execute_result"
    }
   ],
   "source": [
    "l"
   ]
  },
  {
   "cell_type": "code",
   "execution_count": 83,
   "id": "4e410b2f-fc76-4462-b4d8-1fc967067523",
   "metadata": {},
   "outputs": [
    {
     "ename": "NameError",
     "evalue": "name 'l1' is not defined",
     "output_type": "error",
     "traceback": [
      "\u001b[1;31m---------------------------------------------------------------------------\u001b[0m",
      "\u001b[1;31mNameError\u001b[0m                                 Traceback (most recent call last)",
      "Cell \u001b[1;32mIn[83], line 1\u001b[0m\n\u001b[1;32m----> 1\u001b[0m l1\n",
      "\u001b[1;31mNameError\u001b[0m: name 'l1' is not defined"
     ]
    }
   ],
   "source": [
    "l1"
   ]
  },
  {
   "cell_type": "code",
   "execution_count": 84,
   "id": "c00ff16b-5b29-441b-ac5b-c2a1ee7c5ab2",
   "metadata": {},
   "outputs": [
    {
     "data": {
      "text/plain": [
       "5"
      ]
     },
     "execution_count": 84,
     "metadata": {},
     "output_type": "execute_result"
    }
   ],
   "source": [
    "len(l)"
   ]
  },
  {
   "cell_type": "code",
   "execution_count": 85,
   "id": "36e3d388-e8ce-4484-8d47-f4058aa38238",
   "metadata": {},
   "outputs": [
    {
     "ename": "NameError",
     "evalue": "name 'l1' is not defined",
     "output_type": "error",
     "traceback": [
      "\u001b[1;31m---------------------------------------------------------------------------\u001b[0m",
      "\u001b[1;31mNameError\u001b[0m                                 Traceback (most recent call last)",
      "Cell \u001b[1;32mIn[85], line 1\u001b[0m\n\u001b[1;32m----> 1\u001b[0m \u001b[38;5;28mlen\u001b[39m(l1)\n",
      "\u001b[1;31mNameError\u001b[0m: name 'l1' is not defined"
     ]
    }
   ],
   "source": [
    "len(l1)"
   ]
  },
  {
   "cell_type": "code",
   "execution_count": 86,
   "id": "c9d27b36-272c-43d7-a6ed-031fda51de0f",
   "metadata": {},
   "outputs": [
    {
     "ename": "NameError",
     "evalue": "name 'l1' is not defined",
     "output_type": "error",
     "traceback": [
      "\u001b[1;31m---------------------------------------------------------------------------\u001b[0m",
      "\u001b[1;31mNameError\u001b[0m                                 Traceback (most recent call last)",
      "Cell \u001b[1;32mIn[86], line 1\u001b[0m\n\u001b[1;32m----> 1\u001b[0m l1\n",
      "\u001b[1;31mNameError\u001b[0m: name 'l1' is not defined"
     ]
    }
   ],
   "source": [
    "l1"
   ]
  },
  {
   "cell_type": "code",
   "execution_count": 87,
   "id": "1e427f2d-8002-4174-8ce4-3019de966a73",
   "metadata": {},
   "outputs": [
    {
     "ename": "NameError",
     "evalue": "name 'l1' is not defined",
     "output_type": "error",
     "traceback": [
      "\u001b[1;31m---------------------------------------------------------------------------\u001b[0m",
      "\u001b[1;31mNameError\u001b[0m                                 Traceback (most recent call last)",
      "Cell \u001b[1;32mIn[87], line 1\u001b[0m\n\u001b[1;32m----> 1\u001b[0m l3 \u001b[38;5;241m=\u001b[39m l1\u001b[38;5;241m.\u001b[39mcopy()\n",
      "\u001b[1;31mNameError\u001b[0m: name 'l1' is not defined"
     ]
    }
   ],
   "source": [
    "l3 = l1.copy()"
   ]
  },
  {
   "cell_type": "code",
   "execution_count": 88,
   "id": "743542c5-82dd-4605-b835-c1bcc2a7e717",
   "metadata": {},
   "outputs": [
    {
     "ename": "NameError",
     "evalue": "name 'l3' is not defined",
     "output_type": "error",
     "traceback": [
      "\u001b[1;31m---------------------------------------------------------------------------\u001b[0m",
      "\u001b[1;31mNameError\u001b[0m                                 Traceback (most recent call last)",
      "Cell \u001b[1;32mIn[88], line 1\u001b[0m\n\u001b[1;32m----> 1\u001b[0m l3 \u001b[38;5;241m==\u001b[39m l1\n",
      "\u001b[1;31mNameError\u001b[0m: name 'l3' is not defined"
     ]
    }
   ],
   "source": [
    "l3 == l1"
   ]
  },
  {
   "cell_type": "code",
   "execution_count": 89,
   "id": "8a3bb39e-c937-4b14-b393-dffb57df9dd2",
   "metadata": {},
   "outputs": [
    {
     "ename": "NameError",
     "evalue": "name 'l1' is not defined",
     "output_type": "error",
     "traceback": [
      "\u001b[1;31m---------------------------------------------------------------------------\u001b[0m",
      "\u001b[1;31mNameError\u001b[0m                                 Traceback (most recent call last)",
      "Cell \u001b[1;32mIn[89], line 1\u001b[0m\n\u001b[1;32m----> 1\u001b[0m l1\u001b[38;5;241m.\u001b[39mextend(l3)\n",
      "\u001b[1;31mNameError\u001b[0m: name 'l1' is not defined"
     ]
    }
   ],
   "source": [
    "l1.extend(l3)"
   ]
  },
  {
   "cell_type": "code",
   "execution_count": 90,
   "id": "127da1fb-5a26-4c83-a24b-a42dadf1e79e",
   "metadata": {},
   "outputs": [
    {
     "ename": "NameError",
     "evalue": "name 'l1' is not defined",
     "output_type": "error",
     "traceback": [
      "\u001b[1;31m---------------------------------------------------------------------------\u001b[0m",
      "\u001b[1;31mNameError\u001b[0m                                 Traceback (most recent call last)",
      "Cell \u001b[1;32mIn[90], line 1\u001b[0m\n\u001b[1;32m----> 1\u001b[0m l1\n",
      "\u001b[1;31mNameError\u001b[0m: name 'l1' is not defined"
     ]
    }
   ],
   "source": [
    "l1"
   ]
  },
  {
   "cell_type": "code",
   "execution_count": 91,
   "id": "ddd447f5-2be3-4737-aa65-2fa4dbb69c8e",
   "metadata": {},
   "outputs": [
    {
     "data": {
      "text/plain": [
       "[4, 5, 6]"
      ]
     },
     "execution_count": 91,
     "metadata": {},
     "output_type": "execute_result"
    }
   ],
   "source": [
    "l4 = [4,5,6]\n",
    "l4"
   ]
  },
  {
   "cell_type": "code",
   "execution_count": 92,
   "id": "471bd7af-0316-4cc0-97da-9632ace29805",
   "metadata": {},
   "outputs": [
    {
     "data": {
      "text/plain": [
       "[1, 2]"
      ]
     },
     "execution_count": 92,
     "metadata": {},
     "output_type": "execute_result"
    }
   ],
   "source": [
    "l7 = [1,2]\n",
    "l7"
   ]
  },
  {
   "cell_type": "code",
   "execution_count": 93,
   "id": "56d5a861-4e95-40a4-aa51-6693b21aebfe",
   "metadata": {},
   "outputs": [],
   "source": [
    "l7.extend(l4)"
   ]
  },
  {
   "cell_type": "code",
   "execution_count": 94,
   "id": "22d46b23-781c-4a43-8fa7-77c22f74a991",
   "metadata": {},
   "outputs": [
    {
     "data": {
      "text/plain": [
       "[1, 2, 4, 5, 6]"
      ]
     },
     "execution_count": 94,
     "metadata": {},
     "output_type": "execute_result"
    }
   ],
   "source": [
    "l7"
   ]
  },
  {
   "cell_type": "code",
   "execution_count": 95,
   "id": "776e4263-f0ea-4aa3-aced-698dec65d662",
   "metadata": {},
   "outputs": [
    {
     "data": {
      "text/plain": [
       "[1, 2, 3]"
      ]
     },
     "execution_count": 95,
     "metadata": {},
     "output_type": "execute_result"
    }
   ],
   "source": [
    "l10 = [1,2,3]\n",
    "l10"
   ]
  },
  {
   "cell_type": "code",
   "execution_count": 96,
   "id": "0394aec2-147e-43c3-b777-cdc386082cc3",
   "metadata": {},
   "outputs": [],
   "source": [
    "l10.reverse()"
   ]
  },
  {
   "cell_type": "code",
   "execution_count": 97,
   "id": "3c033a78-a92a-4d74-b0ef-f592f97142ec",
   "metadata": {},
   "outputs": [
    {
     "data": {
      "text/plain": [
       "[3, 2, 1]"
      ]
     },
     "execution_count": 97,
     "metadata": {},
     "output_type": "execute_result"
    }
   ],
   "source": [
    "l10"
   ]
  },
  {
   "cell_type": "code",
   "execution_count": 98,
   "id": "0f229ac4-d832-4c3d-817e-4d5e208f53d3",
   "metadata": {},
   "outputs": [
    {
     "data": {
      "text/plain": [
       "[3, 7, 10, 1, 100, 95]"
      ]
     },
     "execution_count": 98,
     "metadata": {},
     "output_type": "execute_result"
    }
   ],
   "source": [
    "l9 = [3,7,10, 1,100, 95]\n",
    "l9"
   ]
  },
  {
   "cell_type": "code",
   "execution_count": 99,
   "id": "f6b62fc3-9b71-4d44-a586-b05e2e6d7cd1",
   "metadata": {},
   "outputs": [],
   "source": [
    "l9.sort()"
   ]
  },
  {
   "cell_type": "code",
   "execution_count": 100,
   "id": "792e5eba-d6a4-4c8a-96bd-bd734b178beb",
   "metadata": {},
   "outputs": [
    {
     "data": {
      "text/plain": [
       "[1, 3, 7, 10, 95, 100]"
      ]
     },
     "execution_count": 100,
     "metadata": {},
     "output_type": "execute_result"
    }
   ],
   "source": [
    "l9"
   ]
  },
  {
   "cell_type": "code",
   "execution_count": 101,
   "id": "4de6224d-5343-4c1f-9f36-717718423802",
   "metadata": {},
   "outputs": [],
   "source": [
    "l9.sort(reverse=True)"
   ]
  },
  {
   "cell_type": "code",
   "execution_count": 102,
   "id": "ea41df35-ebb2-4063-afb5-1c3e5adf7388",
   "metadata": {},
   "outputs": [
    {
     "data": {
      "text/plain": [
       "[100, 95, 10, 7, 3, 1]"
      ]
     },
     "execution_count": 102,
     "metadata": {},
     "output_type": "execute_result"
    }
   ],
   "source": [
    "l9"
   ]
  },
  {
   "cell_type": "markdown",
   "id": "61e79817-a43e-40a1-bfce-778c5cb3d7f4",
   "metadata": {},
   "source": [
    "# 23rd"
   ]
  },
  {
   "cell_type": "code",
   "execution_count": 104,
   "id": "500eba00-e5a9-4eb0-9d3f-a39be778f585",
   "metadata": {},
   "outputs": [
    {
     "data": {
      "text/plain": [
       "['z', 'x', 'b', 'd']"
      ]
     },
     "execution_count": 104,
     "metadata": {},
     "output_type": "execute_result"
    }
   ],
   "source": [
    "l6 = ['z', 'x', 'b', 'd']\n",
    "l6"
   ]
  },
  {
   "cell_type": "code",
   "execution_count": 105,
   "id": "68c5d298-fff9-4526-9168-5ea0aa6e6f61",
   "metadata": {},
   "outputs": [],
   "source": [
    "l6.sort() # paramter tunning "
   ]
  },
  {
   "cell_type": "code",
   "execution_count": 106,
   "id": "6338cbc3-e44d-4029-a48f-4246ecab47fa",
   "metadata": {},
   "outputs": [
    {
     "data": {
      "text/plain": [
       "['b', 'd', 'x', 'z']"
      ]
     },
     "execution_count": 106,
     "metadata": {},
     "output_type": "execute_result"
    }
   ],
   "source": [
    "l6"
   ]
  },
  {
   "cell_type": "code",
   "execution_count": 107,
   "id": "05d626e5-4d2e-4fd4-b684-eba974af1c99",
   "metadata": {},
   "outputs": [],
   "source": [
    "l6.sort(reverse=True) # hyperparameter tunning "
   ]
  },
  {
   "cell_type": "code",
   "execution_count": 108,
   "id": "82742299-7cfe-4841-bfb6-283caac54ee6",
   "metadata": {},
   "outputs": [
    {
     "data": {
      "text/plain": [
       "['z', 'x', 'd', 'b']"
      ]
     },
     "execution_count": 108,
     "metadata": {},
     "output_type": "execute_result"
    }
   ],
   "source": [
    "l6"
   ]
  },
  {
   "cell_type": "code",
   "execution_count": 109,
   "id": "d8901373-e3ad-4dc2-be4e-503bab76621f",
   "metadata": {},
   "outputs": [
    {
     "data": {
      "text/plain": [
       "['z', 'x', 'd', 'b']"
      ]
     },
     "execution_count": 109,
     "metadata": {},
     "output_type": "execute_result"
    }
   ],
   "source": [
    "l6"
   ]
  },
  {
   "cell_type": "code",
   "execution_count": 112,
   "id": "5d53adfc-ad24-43be-90de-e820e497dbc8",
   "metadata": {},
   "outputs": [
    {
     "name": "stdout",
     "output_type": "stream",
     "text": [
      "z\n",
      "x\n",
      "d\n",
      "b\n"
     ]
    }
   ],
   "source": [
    "for k in l6:\n",
    "    print(k)"
   ]
  },
  {
   "cell_type": "code",
   "execution_count": 116,
   "id": "2df39fd8-0d1a-4f68-a849-cd323502cb8d",
   "metadata": {},
   "outputs": [
    {
     "data": {
      "text/plain": [
       "False"
      ]
     },
     "execution_count": 116,
     "metadata": {},
     "output_type": "execute_result"
    }
   ],
   "source": [
    "'zz' in l6"
   ]
  },
  {
   "cell_type": "code",
   "execution_count": 117,
   "id": "fd3ea2c5-ddfb-4553-9d7f-ac3fe528b491",
   "metadata": {},
   "outputs": [
    {
     "name": "stdout",
     "output_type": "stream",
     "text": [
      "(0, 'z')\n",
      "(1, 'x')\n",
      "(2, 'd')\n",
      "(3, 'b')\n"
     ]
    }
   ],
   "source": [
    "for i in enumerate(l6):\n",
    "    print(i)"
   ]
  },
  {
   "cell_type": "code",
   "execution_count": 118,
   "id": "39f0432e-6fd0-42eb-9b5a-8c02de2d9d1c",
   "metadata": {},
   "outputs": [
    {
     "data": {
      "text/plain": [
       "['z', 'x', 'd', 'b']"
      ]
     },
     "execution_count": 118,
     "metadata": {},
     "output_type": "execute_result"
    }
   ],
   "source": [
    "l6"
   ]
  },
  {
   "cell_type": "code",
   "execution_count": 119,
   "id": "b0a99f28-7575-4005-9434-ee6608ee06bc",
   "metadata": {},
   "outputs": [
    {
     "data": {
      "text/plain": [
       "True"
      ]
     },
     "execution_count": 119,
     "metadata": {},
     "output_type": "execute_result"
    }
   ],
   "source": [
    "all(l6)"
   ]
  },
  {
   "cell_type": "code",
   "execution_count": 120,
   "id": "b8608ced-0a60-4ad0-8775-4a2f9456cbf9",
   "metadata": {},
   "outputs": [
    {
     "data": {
      "text/plain": [
       "True"
      ]
     },
     "execution_count": 120,
     "metadata": {},
     "output_type": "execute_result"
    }
   ],
   "source": [
    "any(l6)"
   ]
  },
  {
   "cell_type": "code",
   "execution_count": 121,
   "id": "758e51bb-0ea9-4443-ae2c-d614bc78fc2b",
   "metadata": {},
   "outputs": [],
   "source": [
    "l6.append(0)"
   ]
  },
  {
   "cell_type": "code",
   "execution_count": 124,
   "id": "484885a5-eb9b-44db-92ab-6dea39a7dde5",
   "metadata": {},
   "outputs": [
    {
     "data": {
      "text/plain": [
       "['z', 'x', 'd', 'b', 0]"
      ]
     },
     "execution_count": 124,
     "metadata": {},
     "output_type": "execute_result"
    }
   ],
   "source": [
    "l6"
   ]
  },
  {
   "cell_type": "code",
   "execution_count": 122,
   "id": "698b3efd-ea1e-4b62-a854-6c7443926668",
   "metadata": {},
   "outputs": [
    {
     "data": {
      "text/plain": [
       "False"
      ]
     },
     "execution_count": 122,
     "metadata": {},
     "output_type": "execute_result"
    }
   ],
   "source": [
    "all(l6)"
   ]
  },
  {
   "cell_type": "code",
   "execution_count": 123,
   "id": "324951f8-6548-40c6-a5d6-30fdff476c4c",
   "metadata": {},
   "outputs": [
    {
     "data": {
      "text/plain": [
       "True"
      ]
     },
     "execution_count": 123,
     "metadata": {},
     "output_type": "execute_result"
    }
   ],
   "source": [
    "any(l6)"
   ]
  },
  {
   "cell_type": "markdown",
   "id": "d6c69e6a-7803-40ef-aeb0-8961095228a8",
   "metadata": {},
   "source": [
    "# list is completed today "
   ]
  },
  {
   "cell_type": "code",
   "execution_count": 125,
   "id": "4d811486-6c00-4b45-8e88-dc8b1f993b42",
   "metadata": {},
   "outputs": [
    {
     "data": {
      "text/plain": [
       "()"
      ]
     },
     "execution_count": 125,
     "metadata": {},
     "output_type": "execute_result"
    }
   ],
   "source": [
    "t = ()\n",
    "t"
   ]
  },
  {
   "cell_type": "code",
   "execution_count": 126,
   "id": "71658dcd-fe33-4a77-b1b7-b167a5d177ae",
   "metadata": {},
   "outputs": [
    {
     "data": {
      "text/plain": [
       "0"
      ]
     },
     "execution_count": 126,
     "metadata": {},
     "output_type": "execute_result"
    }
   ],
   "source": [
    "len(t)"
   ]
  },
  {
   "cell_type": "code",
   "execution_count": 127,
   "id": "e1751f94-9bb0-4894-87d2-f002f32d3661",
   "metadata": {},
   "outputs": [
    {
     "data": {
      "text/plain": [
       "(10, 20, 30, 40, 50)"
      ]
     },
     "execution_count": 127,
     "metadata": {},
     "output_type": "execute_result"
    }
   ],
   "source": [
    "t1 = (10,20,30,40,50)\n",
    "t1"
   ]
  },
  {
   "cell_type": "code",
   "execution_count": 128,
   "id": "3f4ace6e-83a9-4d49-9682-76171a7404eb",
   "metadata": {},
   "outputs": [
    {
     "data": {
      "text/plain": [
       "('a', 'z', 'm', 'n')"
      ]
     },
     "execution_count": 128,
     "metadata": {},
     "output_type": "execute_result"
    }
   ],
   "source": [
    "t2 = ('a', 'z','m', 'n')\n",
    "t2"
   ]
  },
  {
   "cell_type": "code",
   "execution_count": 129,
   "id": "870507e1-2101-4e39-b1c5-7d485758cb73",
   "metadata": {},
   "outputs": [
    {
     "data": {
      "text/plain": [
       "1"
      ]
     },
     "execution_count": 129,
     "metadata": {},
     "output_type": "execute_result"
    }
   ],
   "source": [
    "t2.count('z')"
   ]
  },
  {
   "cell_type": "code",
   "execution_count": 131,
   "id": "99205f26-b0ff-40be-9a88-650bf36a20d5",
   "metadata": {},
   "outputs": [
    {
     "data": {
      "text/plain": [
       "0"
      ]
     },
     "execution_count": 131,
     "metadata": {},
     "output_type": "execute_result"
    }
   ],
   "source": [
    "t2.index('a')"
   ]
  },
  {
   "cell_type": "code",
   "execution_count": 133,
   "id": "255d1e14-7118-4c98-985b-d4f5e0bda383",
   "metadata": {},
   "outputs": [
    {
     "data": {
      "text/plain": [
       "(10, 20, 30, 40, 50)"
      ]
     },
     "execution_count": 133,
     "metadata": {},
     "output_type": "execute_result"
    }
   ],
   "source": [
    "t1"
   ]
  },
  {
   "cell_type": "code",
   "execution_count": 134,
   "id": "1e9e48f0-8341-4920-863c-7248c7ed0f09",
   "metadata": {},
   "outputs": [
    {
     "data": {
      "text/plain": [
       "10"
      ]
     },
     "execution_count": 134,
     "metadata": {},
     "output_type": "execute_result"
    }
   ],
   "source": [
    "t1[0]"
   ]
  },
  {
   "cell_type": "code",
   "execution_count": 139,
   "id": "04f9af5d-b199-42dc-9403-84a7310146ee",
   "metadata": {},
   "outputs": [
    {
     "ename": "TypeError",
     "evalue": "'tuple' object does not support item assignment",
     "output_type": "error",
     "traceback": [
      "\u001b[1;31m---------------------------------------------------------------------------\u001b[0m",
      "\u001b[1;31mTypeError\u001b[0m                                 Traceback (most recent call last)",
      "Cell \u001b[1;32mIn[139], line 1\u001b[0m\n\u001b[1;32m----> 1\u001b[0m t1[\u001b[38;5;241m0\u001b[39m] \u001b[38;5;241m=\u001b[39m \u001b[38;5;241m100\u001b[39m\n",
      "\u001b[1;31mTypeError\u001b[0m: 'tuple' object does not support item assignment"
     ]
    }
   ],
   "source": [
    "t1[0] = 100 "
   ]
  },
  {
   "cell_type": "code",
   "execution_count": 140,
   "id": "cedeee13-4f08-481c-9879-d03314cba6fe",
   "metadata": {},
   "outputs": [
    {
     "data": {
      "text/plain": [
       "(10, 20, 30, 40, 50)"
      ]
     },
     "execution_count": 140,
     "metadata": {},
     "output_type": "execute_result"
    }
   ],
   "source": [
    "t1"
   ]
  },
  {
   "cell_type": "code",
   "execution_count": 141,
   "id": "f96b101c-ef82-4aa5-94cd-6688231408de",
   "metadata": {},
   "outputs": [
    {
     "data": {
      "text/plain": [
       "('1234', '4th apr 1990', 1234, 'cizp346878')"
      ]
     },
     "execution_count": 141,
     "metadata": {},
     "output_type": "execute_result"
    }
   ],
   "source": [
    "icic = (1234, '4th apr 1990', 1234, 'cizp346878')\n",
    "icic"
   ]
  },
  {
   "cell_type": "code",
   "execution_count": 142,
   "id": "fcd6fff8-e3c8-4537-80d0-5d466d0ee3a2",
   "metadata": {},
   "outputs": [
    {
     "ename": "TypeError",
     "evalue": "'tuple' object does not support item assignment",
     "output_type": "error",
     "traceback": [
      "\u001b[1;31m---------------------------------------------------------------------------\u001b[0m",
      "\u001b[1;31mTypeError\u001b[0m                                 Traceback (most recent call last)",
      "Cell \u001b[1;32mIn[142], line 1\u001b[0m\n\u001b[1;32m----> 1\u001b[0m icic[\u001b[38;5;241m0\u001b[39m] \u001b[38;5;241m=\u001b[39m  \u001b[38;5;241m980\u001b[39m\n",
      "\u001b[1;31mTypeError\u001b[0m: 'tuple' object does not support item assignment"
     ]
    }
   ],
   "source": [
    "icic[0] =  980"
   ]
  },
  {
   "cell_type": "code",
   "execution_count": 143,
   "id": "ae2ef8a9-edfe-4241-980b-0ae85a3c67ab",
   "metadata": {},
   "outputs": [
    {
     "data": {
      "text/plain": [
       "(10, 20, 30, 40, 50)"
      ]
     },
     "execution_count": 143,
     "metadata": {},
     "output_type": "execute_result"
    }
   ],
   "source": [
    "t1"
   ]
  },
  {
   "cell_type": "code",
   "execution_count": 144,
   "id": "79795d5b-6531-44e6-a8f4-0f12a7141562",
   "metadata": {},
   "outputs": [
    {
     "data": {
      "text/plain": [
       "(10, 20, 30, 40, 50, 10, 20, 30, 40, 50, 10, 20, 30, 40, 50)"
      ]
     },
     "execution_count": 144,
     "metadata": {},
     "output_type": "execute_result"
    }
   ],
   "source": [
    "t3 = t1 * 3\n",
    "t3"
   ]
  },
  {
   "cell_type": "markdown",
   "id": "a460064e-88c7-4908-93d8-8d584b5e2d3f",
   "metadata": {},
   "source": [
    "# tuple completed"
   ]
  },
  {
   "cell_type": "code",
   "execution_count": null,
   "id": "031c406e-70b1-40db-8591-8ad0a87626b4",
   "metadata": {},
   "outputs": [],
   "source": []
  }
 ],
 "metadata": {
  "kernelspec": {
   "display_name": "Python 3 (ipykernel)",
   "language": "python",
   "name": "python3"
  },
  "language_info": {
   "codemirror_mode": {
    "name": "ipython",
    "version": 3
   },
   "file_extension": ".py",
   "mimetype": "text/x-python",
   "name": "python",
   "nbconvert_exporter": "python",
   "pygments_lexer": "ipython3",
   "version": "3.11.7"
  }
 },
 "nbformat": 4,
 "nbformat_minor": 5
}
